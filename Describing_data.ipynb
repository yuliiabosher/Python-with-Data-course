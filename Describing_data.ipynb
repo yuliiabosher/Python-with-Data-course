{
  "nbformat": 4,
  "nbformat_minor": 0,
  "metadata": {
    "colab": {
      "name": "Describing data.ipynb",
      "provenance": [],
      "include_colab_link": true
    },
    "kernelspec": {
      "name": "python3",
      "display_name": "Python 3"
    },
    "language_info": {
      "name": "python"
    }
  },
  "cells": [
    {
      "cell_type": "markdown",
      "metadata": {
        "id": "view-in-github",
        "colab_type": "text"
      },
      "source": [
        "<a href=\"https://colab.research.google.com/github/yuliiabosher/Python-with-Data-course/blob/main/Describing_data.ipynb\" target=\"_parent\"><img src=\"https://colab.research.google.com/assets/colab-badge.svg\" alt=\"Open In Colab\"/></a>"
      ]
    },
    {
      "cell_type": "markdown",
      "metadata": {
        "id": "mM0KF3nvGREF"
      },
      "source": [
        "# Describing data with summary statistics\n",
        "---\n",
        "\n",
        "This worksheet is tied to the Pandas Getting Started Tutorials, picking out particular tutorials to link them into a theme here.\n",
        "\n",
        "We will focus on describing data.  This is the least risky in terms of bias and inaccurate conclusions as it should focus just on what data is presented to us.\n",
        "\n",
        "Each exercise will ask you to work through on tutorial on the Getting Started page, to try the code from the tutorial here and to try a second, similar action."
      ]
    },
    {
      "cell_type": "markdown",
      "metadata": {
        "id": "kTyelqrywYQl"
      },
      "source": [
        "---\n",
        "\n",
        "The practice data from the tutorials comes from a dataset on Titanic passengers.\n"
      ]
    },
    {
      "cell_type": "markdown",
      "metadata": {
        "id": "Cb3JAeCCOeN9"
      },
      "source": [
        "### Exercise 1 - open the Titanic dataset\n",
        "---\n",
        "\n",
        "The Titanic dataset is stored at this URL:\n",
        "https://raw.githubusercontent.com/pandas-dev/pandas/master/doc/data/titanic.csv\n",
        "\n",
        "Read the dataset into a pandas dataframe that you will call **titanic**.\n",
        "\n",
        "**Test output**:  \n",
        "The shape of the dataframe will be (891, 12)"
      ]
    },
    {
      "cell_type": "code",
      "metadata": {
        "id": "bEhmZCf7GPzn",
        "outputId": "f6bd00b0-0a92-4fcc-afbe-7a553cc1deed",
        "colab": {
          "base_uri": "https://localhost:8080/"
        }
      },
      "source": [
        "import pandas as pd\n",
        "titanic = pd.read_csv(\"https://raw.githubusercontent.com/pandas-dev/pandas/master/doc/data/titanic.csv\")\n",
        "titanic.shape"
      ],
      "execution_count": 1,
      "outputs": [
        {
          "output_type": "execute_result",
          "data": {
            "text/plain": [
              "(891, 12)"
            ]
          },
          "metadata": {},
          "execution_count": 1
        }
      ]
    },
    {
      "cell_type": "markdown",
      "metadata": {
        "id": "bNNZCv5DQWAU"
      },
      "source": [
        "### Exercise 2 - get summary information about the dataframe\n",
        "---\n",
        "\n",
        "Read through the tutorials:  \n",
        "[What kind of data does pandas handle?](https://pandas.pydata.org/docs/getting_started/intro_tutorials/01_table_oriented.html#)  \n",
        "[How do I read and write tabular data?](https://pandas.pydata.org/docs/getting_started/intro_tutorials/02_read_write.html)\n",
        "\n",
        "Use panda functions to display the following:\n",
        "1.  A technical summary of the data (info())\n",
        "2.  A description of the numerical data (describe())\n",
        "3.  Display the Series 'Age'\n",
        "\n",
        "**Test output**:   \n",
        "1.  The info should show that there are only 204 values in the Cabin series, out of 891 records.  \n",
        "2.  The description should show 7 columns and a mean age of 29.699118\n",
        "3.  The Age series should have values of type float64 and Length 891"
      ]
    },
    {
      "cell_type": "code",
      "metadata": {
        "id": "puw-h7O0RJlk",
        "outputId": "8828a30f-72b6-442d-c42a-9eca4e1fa42b",
        "colab": {
          "base_uri": "https://localhost:8080/"
        }
      },
      "source": [
        "titanic.info()\n",
        "titanic.describe()\n",
        "titanic[\"Age\"]"
      ],
      "execution_count": 2,
      "outputs": [
        {
          "output_type": "stream",
          "name": "stdout",
          "text": [
            "<class 'pandas.core.frame.DataFrame'>\n",
            "RangeIndex: 891 entries, 0 to 890\n",
            "Data columns (total 12 columns):\n",
            " #   Column       Non-Null Count  Dtype  \n",
            "---  ------       --------------  -----  \n",
            " 0   PassengerId  891 non-null    int64  \n",
            " 1   Survived     891 non-null    int64  \n",
            " 2   Pclass       891 non-null    int64  \n",
            " 3   Name         891 non-null    object \n",
            " 4   Sex          891 non-null    object \n",
            " 5   Age          714 non-null    float64\n",
            " 6   SibSp        891 non-null    int64  \n",
            " 7   Parch        891 non-null    int64  \n",
            " 8   Ticket       891 non-null    object \n",
            " 9   Fare         891 non-null    float64\n",
            " 10  Cabin        204 non-null    object \n",
            " 11  Embarked     889 non-null    object \n",
            "dtypes: float64(2), int64(5), object(5)\n",
            "memory usage: 83.7+ KB\n"
          ]
        },
        {
          "output_type": "execute_result",
          "data": {
            "text/plain": [
              "0      22.0\n",
              "1      38.0\n",
              "2      26.0\n",
              "3      35.0\n",
              "4      35.0\n",
              "       ... \n",
              "886    27.0\n",
              "887    19.0\n",
              "888     NaN\n",
              "889    26.0\n",
              "890    32.0\n",
              "Name: Age, Length: 891, dtype: float64"
            ]
          },
          "metadata": {},
          "execution_count": 2
        }
      ]
    },
    {
      "cell_type": "markdown",
      "metadata": {
        "id": "g3EzF12i0m1a"
      },
      "source": [
        "### Exercise 3 - aggregating statistics\n",
        "---\n",
        "\n",
        "Read through the tutorial:  \n",
        "[How to calculate summary statistics?](https://pandas.pydata.org/docs/getting_started/intro_tutorials/06_calculate_statistics.html#)  \n",
        "\n",
        "Use panda functions to display the following summary statistics from the titanic dataset:  \n",
        "\n",
        "1.  The average (mean) age of passengers  \n",
        "2.  The median age and fare  \n",
        "3.  The mean fare\n",
        "4.  The modal fare and gender\n",
        "\n",
        "**Test output**:   \n",
        "29.699118, Age 28.0000 Fare 14.4542, 32.2042079685746, Fare 8.05 Sex male\n"
      ]
    },
    {
      "cell_type": "code",
      "source": [
        "print(f'{format(titanic[\"Age\"].mean(), \".6f\")}, Age {format(titanic[\"Age\"].median(), \".4f\")} Fare {format(titanic[\"Fare\"].median(), \".4f\")}, {format(titanic[\"Fare\"].mean(), \".13f\")}, Fare {titanic[\"Fare\"].mode()[0]} Sex {titanic[\"Sex\"].mode()[0]}')\n",
        "\n"
      ],
      "metadata": {
        "id": "UTC041CBmQeo",
        "outputId": "98665da6-63b5-4e2a-d192-9f72a3a0a00d",
        "colab": {
          "base_uri": "https://localhost:8080/"
        }
      },
      "execution_count": 3,
      "outputs": [
        {
          "output_type": "stream",
          "name": "stdout",
          "text": [
            "29.699118, Age 28.0000 Fare 14.4542, 32.2042079685746, Fare 8.05 Sex male\n"
          ]
        }
      ]
    },
    {
      "cell_type": "markdown",
      "metadata": {
        "id": "moYrHf2s2UrP"
      },
      "source": [
        "### Exercise 4 - displaying other statistics\n",
        "---\n",
        "\n",
        "Take a look at the list of methods available for giving summary statistics [here](https://pandas.pydata.org/docs/user_guide/basics.html#basics-stats)\n",
        "\n",
        "Use panda functions, and your existing knowledge, to display the following summary statistics from the titanic dataset:\n",
        "\n",
        "1.  The total number of passengers on the titanic\n",
        "2.  The age of the youngest passenger\n",
        "3.  The most expensive ticket price\n",
        "4.  The range of ticket prices\n",
        "5.  The number of passenges with cabins\n",
        "6.  The code for the port where the highest number of passengers embarked\n",
        "7.  The most populous gender\n",
        "8.  The standard deviation for age and fare\n",
        "\n",
        "**Tests**:  \n",
        "891, 0.42, 512.3292, 512.3292, 204, S, male, Age 14.526497 Fare 49.693429"
      ]
    },
    {
      "cell_type": "code",
      "metadata": {
        "id": "AqDs2Xfw3upQ",
        "colab": {
          "base_uri": "https://localhost:8080/"
        },
        "outputId": "c99e67bb-292c-4f2f-d531-cacb002e6c4f"
      },
      "source": [
        "print(f'{titanic[\"PassengerId\"].count()}, {titanic[\"Age\"].min()}, {titanic[\"Fare\"].max()}, {titanic[\"Fare\"].max()}, {titanic[\"Cabin\"].count()}, {titanic[\"Embarked\"].value_counts().idxmax()}, {titanic[\"Sex\"].value_counts().idxmax()}, Age {round(titanic[\"Age\"].std(), 6)}, Fare {round(titanic[\"Fare\"].std(), 6)}')\n",
        "\n",
        "\n",
        "\n",
        "\n",
        "\n",
        "\n",
        "\n"
      ],
      "execution_count": 4,
      "outputs": [
        {
          "output_type": "stream",
          "name": "stdout",
          "text": [
            "891, 0.42, 512.3292, 512.3292, 204, S, male, Age 14.526497, Fare 49.693429\n"
          ]
        }
      ]
    },
    {
      "cell_type": "markdown",
      "metadata": {
        "id": "Q6s13LaY4_QC"
      },
      "source": [
        "### Exercise 5 - aggregating statistics grouped by category\n",
        "---\n",
        "\n",
        "Refer again to the tutorial  \n",
        "[How to calculate summary statistics?](https://pandas.pydata.org/docs/getting_started/intro_tutorials/06_calculate_statistics.html#)   \n",
        "looking particularly at the section on Aggregating statistics grouped by category.\n",
        "\n",
        "1.  What is the mean age for male versus female Titanic passengers?\n",
        "2.  What is the mean ticket fare price for each of the sex and cabin class combinations?\n",
        "3.  What is the mean ticket fare price for passengers who embarked at each port?\n",
        "4.  Which passenger class had the highest number of survivors (for now, just show the statistics - it may not be meaningful yet)?\n",
        "\n",
        "**Test output**:  \n",
        "1.  female 27.915709 male 30.726645\n",
        "2.  \n",
        "```\n",
        "female  1         106.125798\n",
        "            2          21.970121\n",
        "            3          16.118810\n",
        "male    1          67.226127\n",
        "            2          19.741782\n",
        "            3          12.661633\n",
        "```\n",
        "3.  \n",
        "```\n",
        "C    59.954144\n",
        "Q    13.276030\n",
        "S    27.079812\n",
        "```\n",
        "4.\n",
        "\n",
        "```\n",
        "Survived  Pclass\n",
        "\n",
        "0         1          80\n",
        "          2          97\n",
        "          3         372\n",
        "1         1         136\n",
        "          2          87\n",
        "          3         119\n",
        "```\n",
        "\n",
        "\n",
        "\n",
        "\n"
      ]
    },
    {
      "cell_type": "code",
      "metadata": {
        "id": "hH4-UZxH_omw",
        "colab": {
          "base_uri": "https://localhost:8080/"
        },
        "outputId": "1ccb480e-027e-4044-c8c7-ae56e6fdb44e"
      },
      "source": [
        "print(titanic[[\"Sex\", \"Age\"]].groupby(\"Sex\").mean())\n",
        "print(titanic.groupby([\"Sex\", \"Pclass\"])[\"Fare\"].mean())\n",
        "print(titanic.groupby(\"Embarked\")[\"Fare\"].mean())\n",
        "print(titanic.groupby([\"Pclass\", \"Survived\"])[\"Survived\"].sum())\n"
      ],
      "execution_count": 5,
      "outputs": [
        {
          "output_type": "stream",
          "name": "stdout",
          "text": [
            "              Age\n",
            "Sex              \n",
            "female  27.915709\n",
            "male    30.726645\n",
            "Sex     Pclass\n",
            "female  1         106.125798\n",
            "        2          21.970121\n",
            "        3          16.118810\n",
            "male    1          67.226127\n",
            "        2          19.741782\n",
            "        3          12.661633\n",
            "Name: Fare, dtype: float64\n",
            "Embarked\n",
            "C    59.954144\n",
            "Q    13.276030\n",
            "S    27.079812\n",
            "Name: Fare, dtype: float64\n",
            "Pclass  Survived\n",
            "1       0             0\n",
            "        1           136\n",
            "2       0             0\n",
            "        1            87\n",
            "3       0             0\n",
            "        1           119\n",
            "Name: Survived, dtype: int64\n"
          ]
        }
      ]
    },
    {
      "cell_type": "markdown",
      "metadata": {
        "id": "uG42G7oPCaVT"
      },
      "source": [
        "### Exercise 6 - an aggregation of different statistics\n",
        "---\n",
        "\n",
        "Use the function titanic.agg() as shown in the tutorial  \n",
        "[How to calculate summary statistics?](https://pandas.pydata.org/docs/getting_started/intro_tutorials/06_calculate_statistics.html#)  \n",
        "\n",
        "1.  Display\n",
        "\n",
        "```\n",
        "     {\n",
        "         \"Age\": [\"min\", \"max\", \"median\", \"skew\"],\n",
        "         \"Fare\": [\"min\", \"max\", \"median\", \"mean\"]\n",
        "     }\n",
        "```\n",
        "2.  Display:  \n",
        "min, max and mean for Age  \n",
        "min, max and standard deviation for Fare  \n",
        "count for Cabin\n",
        "\n",
        "**Test output**:   \n",
        "1.\n",
        "```\n",
        "                  Age\t      Fare  \n",
        "max\t   80.000000\t512.329200  \n",
        "mean\t  NaN\t      32.204208  \n",
        "median\t28.000000\t14.454200  \n",
        "min\t   0.420000\t 0.000000  \n",
        "skew\t  0.389108\t NaN\n",
        "```\n",
        "\n",
        "2.   \n",
        "```\n",
        "\t        Age\t    Fare\t   Cabin\n",
        "count  NaN\t    NaN\t    204.0\n",
        "max\t80.000000  512.329200 NaN\n",
        "mean   29.699118  NaN        NaN\n",
        "min\t0.420000   0.000000   NaN\n",
        "std\tNaN        49.693429  NaN\n",
        "```\n",
        "\n",
        "\n"
      ]
    },
    {
      "cell_type": "code",
      "metadata": {
        "id": "2hqgzlZgZnzx",
        "colab": {
          "base_uri": "https://localhost:8080/"
        },
        "outputId": "c56fa13d-37c2-4560-edd5-055e57bc980b"
      },
      "source": [
        "print(titanic.agg(\n",
        "    {\n",
        "       \"Age\": [\"min\", \"max\", \"median\", \"skew\"],\n",
        "       \"Fare\": [\"min\", \"max\", \"median\", \"mean\"]\n",
        "    }\n",
        "))\n",
        "print(titanic.agg(\n",
        "    {\n",
        "        \"Age\": [\"min\", \"max\", \"mean\"],\n",
        "        \"Fare\": [\"min\", \"max\", \"std\"],\n",
        "        \"Cabin\": [\"count\"]\n",
        "\n",
        "    }\n",
        "))"
      ],
      "execution_count": 6,
      "outputs": [
        {
          "output_type": "stream",
          "name": "stdout",
          "text": [
            "              Age        Fare\n",
            "min      0.420000    0.000000\n",
            "max     80.000000  512.329200\n",
            "median  28.000000   14.454200\n",
            "skew     0.389108         NaN\n",
            "mean          NaN   32.204208\n",
            "             Age        Fare  Cabin\n",
            "min     0.420000    0.000000    NaN\n",
            "max    80.000000  512.329200    NaN\n",
            "mean   29.699118         NaN    NaN\n",
            "std          NaN   49.693429    NaN\n",
            "count        NaN         NaN  204.0\n"
          ]
        }
      ]
    },
    {
      "cell_type": "markdown",
      "metadata": {
        "id": "cucQCpY1SwUj"
      },
      "source": [
        "### Exercise 7 - count by category\n",
        "---\n",
        "\n",
        "Read the section Count number of records by category in the tutorial  \n",
        "[How to calculate summary statistics?](https://pandas.pydata.org/docs/getting_started/intro_tutorials/06_calculate_statistics.html#)\n",
        "\n",
        "1. Display the number of passengers of each gender who had a ticket\n",
        "2. Display the number of passengers who embarked at each port and had a ticket\n",
        "3. Calculate the percentage of PassengerIds who survived the sinking of the Titanic (*Hint:  try getting the PassengerIds with a count for survived or not.  Store this value in a new variable, which will contain a list/array.  The second item in this list will be the number who survived.  You can use this number and the count of PassengerIds to calculate the percentage*)\n",
        "\n",
        "**Test output**:  \n",
        "1.  female 314, male 577\n",
        "2.  C 168, Q 77, S 644\n",
        "3.  38.38383838383838\n",
        "\n"
      ]
    },
    {
      "cell_type": "code",
      "metadata": {
        "id": "NkZHxv_nTj-o",
        "colab": {
          "base_uri": "https://localhost:8080/"
        },
        "outputId": "e0f9304e-c7c3-4929-f409-e6fc897508e8"
      },
      "source": [
        "print(titanic[\"Sex\"].value_counts())\n",
        "print(titanic[\"Embarked\"].value_counts())\n",
        "x = titanic[\"Survived\"].value_counts()\n",
        "y = titanic[\"PassengerId\"].count()\n",
        "percentage = x[1]/y*100\n",
        "print(percentage)"
      ],
      "execution_count": 7,
      "outputs": [
        {
          "output_type": "stream",
          "name": "stdout",
          "text": [
            "male      577\n",
            "female    314\n",
            "Name: Sex, dtype: int64\n",
            "S    644\n",
            "C    168\n",
            "Q     77\n",
            "Name: Embarked, dtype: int64\n",
            "38.38383838383838\n"
          ]
        }
      ]
    },
    {
      "cell_type": "markdown",
      "metadata": {
        "id": "Y2aTzdTlLjlI"
      },
      "source": [
        "### Exercise 8 - summary happiness statistics\n",
        "---\n",
        "\n",
        "Open the data set here: https://github.com/futureCodersSE/working-with-data/blob/main/Happiness-Data/2019.xlsx?raw=true\n",
        "\n",
        "It contains data on people's perception of happiness levels in a number of countries across the world.\n",
        "\n",
        "1.  Display the number of records in the set  \n",
        "2.  Display the description of the numerical data  \n",
        "3.  Display the highest GDP and life expectancy  \n",
        "4.  Display the mean, max and min for Freedom,  mean, max, min and skew for Generosity and mean, min, max and std for GDP  \n",
        "\n",
        "**Test output**:  \n",
        "1.  156\n",
        "2.  Table showing count, mean, std, min, 25%, 50%, 75%, max for 8 columns\n",
        "3.  GDP 0.905147, life expectancy 0.725244  \n",
        "4.  \n",
        "\n",
        "\n",
        "```\n",
        "\t   Freedom to make life choices\tGenerosity\tGDP per capita\n",
        "max\t 0.631000\t                   0.566000\t  1.684000\n",
        "mean\t0.392571\t                   0.184846\t  0.905147\n",
        "min\t 0.000000\t                   0.000000  \t0.000000\n",
        "skew\tNaN\t                        0.745942\t  NaN\n",
        "std\t NaN\t                        NaN\t       0.398389\n",
        "```\n",
        "\n",
        "\n"
      ]
    },
    {
      "cell_type": "code",
      "metadata": {
        "id": "ISwIDuuAL6qo",
        "outputId": "04cb91df-888e-4a99-e833-a9e2f4d65a20",
        "colab": {
          "base_uri": "https://localhost:8080/"
        }
      },
      "source": [
        "df = pd.read_excel(\"https://github.com/futureCodersSE/working-with-data/blob/main/Happiness-Data/2019.xlsx?raw=true\")\n",
        "x = df.shape\n",
        "number_of_rows = x[0]\n",
        "print(number_of_rows)\n",
        "print(df.describe())\n",
        "print(f'GDP {df[\"GDP per capita\"].max()}, life expectancy {df[\"Healthy life expectancy\"].max()}')\n",
        "print(df.agg(\n",
        "    {\n",
        "        \"Freedom to make life choices\": [\"mean\", \"max\", \"min\"],\n",
        "        \"Generosity\": [\"mean\", \"max\", \"min\", \"skew\"],\n",
        "        \"GDP per capita\": [\"mean\", \"max\", \"min\", \"std\"]\n",
        "\n",
        "\n",
        "    }\n",
        "))\n"
      ],
      "execution_count": 8,
      "outputs": [
        {
          "output_type": "stream",
          "name": "stdout",
          "text": [
            "156\n",
            "       Overall rank       Score  GDP per capita  Social support  \\\n",
            "count    156.000000  156.000000      156.000000      156.000000   \n",
            "mean      78.500000    5.407096        0.905147        1.208814   \n",
            "std       45.177428    1.113120        0.398389        0.299191   \n",
            "min        1.000000    2.853000        0.000000        0.000000   \n",
            "25%       39.750000    4.544500        0.602750        1.055750   \n",
            "50%       78.500000    5.379500        0.960000        1.271500   \n",
            "75%      117.250000    6.184500        1.232500        1.452500   \n",
            "max      156.000000    7.769000        1.684000        1.624000   \n",
            "\n",
            "       Healthy life expectancy  Freedom to make life choices  Generosity  \\\n",
            "count               156.000000                    156.000000  156.000000   \n",
            "mean                  0.725244                      0.392571    0.184846   \n",
            "std                   0.242124                      0.143289    0.095254   \n",
            "min                   0.000000                      0.000000    0.000000   \n",
            "25%                   0.547750                      0.308000    0.108750   \n",
            "50%                   0.789000                      0.417000    0.177500   \n",
            "75%                   0.881750                      0.507250    0.248250   \n",
            "max                   1.141000                      0.631000    0.566000   \n",
            "\n",
            "       Perceptions of corruption  \n",
            "count                 156.000000  \n",
            "mean                    0.110603  \n",
            "std                     0.094538  \n",
            "min                     0.000000  \n",
            "25%                     0.047000  \n",
            "50%                     0.085500  \n",
            "75%                     0.141250  \n",
            "max                     0.453000  \n",
            "GDP 1.684, life expectancy 1.141\n",
            "      Freedom to make life choices  Generosity  GDP per capita\n",
            "mean                      0.392571    0.184846        0.905147\n",
            "max                       0.631000    0.566000        1.684000\n",
            "min                       0.000000    0.000000        0.000000\n",
            "skew                           NaN    0.745942             NaN\n",
            "std                            NaN         NaN        0.398389\n"
          ]
        }
      ]
    },
    {
      "cell_type": "markdown",
      "metadata": {
        "id": "X3vlyA6zRdXs"
      },
      "source": [
        "### Exercise 9 - migration data\n",
        "---\n",
        "\n",
        "Open the dataset at this url: https://github.com/futureCodersSE/working-with-data/blob/main/Data%20sets/public_use-talent-migration.xlsx?raw=true  Open the sheet named *Country Migration*\n",
        "\n",
        "1.  Describe the dataset  \n",
        "2.  Show summary information\n",
        "3.  Display the mean net per 10K migration in each of the years 2015 to 2019\n",
        "4.  Display the mean, max and min migration for the year 2019 for each of the regions (*base_country_wb_region*)\n",
        "5.  Display the median net migration for the years 2015 and 2019 for the base countries by income level\n",
        "6.  Display the number of target countries in each income level\n",
        "7.  Display the mean net migration for all five years, for each income level\n",
        "\n",
        "**Test output**:  \n",
        "1  count, mean, std, min, 25%, 50%, 75%, max for 9 columns\n",
        "\n",
        "2  shows 16 columns with non-null count of 4148 in each column\n",
        "\n",
        "3  \n",
        "```\n",
        "net_per_10K_2015    0.461757\n",
        "net_per_10K_2016    0.150248\n",
        "net_per_10K_2017   -0.080272\n",
        "net_per_10K_2018   -0.040591\n",
        "net_per_10K_2019   -0.022743\n",
        "dtype: float64\n",
        "```\n",
        "\n",
        "4  \n",
        "```\n",
        "\tnet_per_10K_2019\n",
        "mean\tmax\tmin\n",
        "base_country_wb_region\n",
        "East Asia & Pacific\t0.198827\t21.57\t-9.88\n",
        "Europe & Central Asia\t0.208974\t87.71\t-21.34\n",
        "Latin America & Caribbean\t-0.904602\t21.15\t-31.75\n",
        "Middle East & North Africa\t-0.107655\t55.60\t-50.33\n",
        "North America\t0.239246\t23.20\t-0.29\n",
        "South Asia\t-0.514577\t13.72\t-24.89\n",
        "Sub-Saharan Africa\t-0.279729\t37.11\t-21.54\n",
        "```\n",
        "\n",
        "5  \n",
        "```\n",
        "\tnet_per_10K_2015\tnet_per_10K_2019\n",
        "base_country_wb_income\n",
        "High Income\t0.02\t0.04\n",
        "Low Income\t0.42\t-0.05\n",
        "Lower Middle Income\t-0.02\t-0.07\n",
        "Upper Middle Income\t-0.03\t-0.08\n",
        "```\n",
        "\n",
        "6  \n",
        "```\n",
        "base_country_wb_income\n",
        "High Income            2415\n",
        "Low Income              185\n",
        "Lower Middle Income     653\n",
        "Upper Middle Income     895\n",
        "Name: target_country_name, dtype: int64\n",
        "```\n",
        "\n",
        "7  \n",
        "```\n",
        "net_per_10K_2015\tnet_per_10K_2016\tnet_per_10K_2017\tnet_per_10K_2018\tnet_per_10K_2019\n",
        "base_country_wb_income\n",
        "High Income\t0.505482\t0.391379\t0.314178\t0.379201\t0.401470\n",
        "Low Income\t1.876432\t0.798270\t-0.684865\t-0.677784\t-0.681459\n",
        "Lower Middle Income\t0.591654\t-0.029893\t-0.519433\t-0.527136\t-0.476616\n",
        "Upper Middle Income\t-0.043419\t-0.502916\t-0.699240\t-0.686626\t-0.700101\n",
        "```\n",
        "\n",
        "\n",
        "\n",
        "\n"
      ]
    },
    {
      "cell_type": "code",
      "metadata": {
        "id": "yk8cfjUvIj5x",
        "outputId": "041dc28c-3039-47df-aaa9-adf5e61441c4",
        "colab": {
          "base_uri": "https://localhost:8080/"
        }
      },
      "source": [
        "s = pd.read_excel(\"https://github.com/futureCodersSE/working-with-data/blob/main/Data%20sets/public_use-talent-migration.xlsx?raw=true\", sheet_name = \"Country Migration\")\n",
        "print(s.describe())\n",
        "print(s.shape)\n",
        "print(f'net_per_10K_2015 {format(s[\"net_per_10K_2015\"].mean(), \".6f\")}')\n",
        "print(f'net_per_10K_2016 {format(s[\"net_per_10K_2016\"].mean(), \".6f\")}')\n",
        "print(f'net_per_10K_2017 {format(s[\"net_per_10K_2017\"].mean(), \".6f\")}')\n",
        "print(f'net_per_10K_2018 {format(s[\"net_per_10K_2018\"].mean(), \".6f\")}')\n",
        "print(f'net_per_10K_2019 {format(s[\"net_per_10K_2019\"].mean(), \".6f\")}')\n",
        "print(s.groupby(\"base_country_wb_region\").agg(\n",
        "    {\n",
        "        \"net_per_10K_2019\": [\"mean\", \"max\", \"min\"]\n",
        "    }\n",
        "))\n",
        "print(s.groupby(\"base_country_wb_income\")[[\"net_per_10K_2015\", \"net_per_10K_2019\"]].median())\n",
        "print(s[\"target_country_wb_income\"].value_counts())\n",
        "print(s.groupby(\"base_country_wb_income\")[[\"net_per_10K_2015\", \"net_per_10K_2016\", \"net_per_10K_2017\", \"net_per_10K_2018\", \"net_per_10K_2019\"]].mean())"
      ],
      "execution_count": 22,
      "outputs": [
        {
          "output_type": "stream",
          "name": "stdout",
          "text": [
            "          base_lat    base_long   target_lat  target_long  net_per_10K_2015  \\\n",
            "count  4148.000000  4148.000000  4148.000000  4148.000000       4148.000000   \n",
            "mean     28.418022    21.698305    28.418022    21.698305          0.461757   \n",
            "std      25.086012    61.937381    25.086012    61.937381          5.006530   \n",
            "min     -40.900557  -106.346771   -40.900557  -106.346771        -37.010000   \n",
            "25%      14.058324    -3.435973    14.058324    -3.435973         -0.150000   \n",
            "50%      35.861660    19.145136    35.861660    19.145136          0.000000   \n",
            "75%      47.516231    53.688046    47.516231    53.688046          0.240000   \n",
            "max      64.963051   179.414413    64.963051   179.414413        150.680000   \n",
            "\n",
            "       net_per_10K_2016  net_per_10K_2017  net_per_10K_2018  net_per_10K_2019  \n",
            "count       4148.000000       4148.000000       4148.000000       4148.000000  \n",
            "mean           0.150248         -0.080272         -0.040591         -0.022743  \n",
            "std            4.201118          3.203092          3.593876          3.633247  \n",
            "min          -40.890000        -43.660000        -56.220000        -50.330000  \n",
            "25%           -0.190000         -0.210000         -0.210000         -0.210000  \n",
            "50%            0.000000          0.000000          0.000000          0.000000  \n",
            "75%            0.220000          0.160000          0.170000          0.180000  \n",
            "max          124.480000         87.000000         91.410000         87.710000  \n",
            "(4148, 17)\n",
            "net_per_10K_2015 0.461757\n",
            "net_per_10K_2016 0.150248\n",
            "net_per_10K_2017 -0.080272\n",
            "net_per_10K_2018 -0.040591\n",
            "net_per_10K_2019 -0.022743\n",
            "                           net_per_10K_2019              \n",
            "                                       mean    max    min\n",
            "base_country_wb_region                                   \n",
            "East Asia & Pacific                0.198827  21.57  -9.88\n",
            "Europe & Central Asia              0.208974  87.71 -21.34\n",
            "Latin America & Caribbean         -0.904602  21.15 -31.75\n",
            "Middle East & North Africa        -0.107655  55.60 -50.33\n",
            "North America                      0.239246  23.20  -0.29\n",
            "South Asia                        -0.514577  13.72 -24.89\n",
            "Sub-Saharan Africa                -0.279729  37.11 -21.54\n",
            "                        net_per_10K_2015  net_per_10K_2019\n",
            "base_country_wb_income                                    \n",
            "High Income                         0.02              0.04\n",
            "Low Income                          0.42             -0.05\n",
            "Lower Middle Income                -0.02             -0.07\n",
            "Upper Middle Income                -0.03             -0.08\n",
            "High Income            2415\n",
            "Upper Middle Income     895\n",
            "Lower Middle Income     653\n",
            "Low Income              185\n",
            "Name: target_country_wb_income, dtype: int64\n",
            "                        net_per_10K_2015  net_per_10K_2016  net_per_10K_2017  \\\n",
            "base_country_wb_income                                                         \n",
            "High Income                     0.505482          0.391379          0.314178   \n",
            "Low Income                      1.876432          0.798270         -0.684865   \n",
            "Lower Middle Income             0.591654         -0.029893         -0.519433   \n",
            "Upper Middle Income            -0.043419         -0.502916         -0.699240   \n",
            "\n",
            "                        net_per_10K_2018  net_per_10K_2019  \n",
            "base_country_wb_income                                      \n",
            "High Income                     0.379201          0.401470  \n",
            "Low Income                     -0.677784         -0.681459  \n",
            "Lower Middle Income            -0.527136         -0.476616  \n",
            "Upper Middle Income            -0.686626         -0.700101  \n"
          ]
        }
      ]
    },
    {
      "cell_type": "markdown",
      "metadata": {
        "id": "UqBCMK6dIkS-"
      },
      "source": [
        "### Exercise 10 - calculating range over a grouped series\n",
        "\n",
        "Open the dataset at this url: https://github.com/futureCodersSE/working-with-data/blob/main/Data%20sets/public_use-talent-migration.xlsx?raw=true Open the sheet named *Skill Migration*\n",
        "\n",
        "1.  Display the max for each skill group category of net migration for the year 2017\n",
        "2.  Assign the max for each skill group category of net migration for the year 2017 to a variable called **max_skill_migration** and print `max_skill_migration`\n",
        "3.  Create a second variable called **min_skill_migration** and assign to it the min for each skill group category of net migration for the year 2017, print `min_skill_migration`\n",
        "\n",
        "4.  You now have two series `max_skill_migration` and `min_skill_migration` each of which is a numpy array.  You can perfom calculations on these two series in the same way as you would individual data items.\n",
        "\n",
        "So, you can calculate the range for each skill category by subtracting the `min_skill_migration` from `max_skill_migration` to get a new series **skill_migration_range**\n",
        "\n",
        "skill_migration_range = max_skill_migration - min_skill_migration\n",
        "\n",
        "Try it out.\n",
        "\n",
        "5.  Now calculate the range for the year 2019\n",
        "6.  Now calculate the range for countries grouped by base country income level for the year 2015\n",
        "\n",
        "Test output:  \n",
        "1 and 2  \n",
        "```\n",
        "skill_group_category\n",
        "Business Skills                1048.20\n",
        "Disruptive Tech Skills         1478.56\n",
        "Soft Skills                    1572.35\n",
        "Specialized Industry Skills    1906.14\n",
        "Tech Skills                    1336.78\n",
        "Name: net_per_10K_2017, dtype: float64\n",
        "```\n",
        "\n",
        "3    \n",
        "```\n",
        "skill_group_category\n",
        "Business Skills               -3471.35\n",
        "Disruptive Tech Skills        -2646.19\n",
        "Soft Skills                   -2542.23\n",
        "Specialized Industry Skills   -6604.67\n",
        "Tech Skills                   -6060.98\n",
        "Name: net_per_10K_2017, dtype: float64\n",
        "```\n",
        "\n",
        "4  \n",
        "```\n",
        "skill_group_category\n",
        "Business Skills                4519.55\n",
        "Disruptive Tech Skills         4124.75\n",
        "Soft Skills                    4114.58\n",
        "Specialized Industry Skills    8510.81\n",
        "Tech Skills                    7397.76\n",
        "Name: net_per_10K_2017, dtype: float64\n",
        "```\n",
        "\n",
        "5  \n",
        "```\n",
        "skill_group_category\n",
        "Business Skills                4543.96\n",
        "Disruptive Tech Skills         3651.81\n",
        "Soft Skills                    5528.47\n",
        "Specialized Industry Skills    4036.44\n",
        "Tech Skills                    3424.45\n",
        "Name: net_per_10K_2019, dtype: float64\n",
        "```\n",
        "\n",
        "6  \n",
        "```\n",
        "wb_income\n",
        "High income            4246.50\n",
        "Low income             4556.42\n",
        "Lower middle income    2148.36\n",
        "Upper middle income    4045.43\n",
        "Name: net_per_10K_2015, dtype: float64\n",
        "```\n",
        "\n",
        "\n",
        "\n"
      ]
    },
    {
      "cell_type": "code",
      "metadata": {
        "id": "1_2brpLnKIBt",
        "colab": {
          "base_uri": "https://localhost:8080/"
        },
        "outputId": "96623ca9-0db2-4a72-93c0-a671ac07384f"
      },
      "source": [
        "d = pd.read_excel(\"https://github.com/futureCodersSE/working-with-data/blob/main/Data%20sets/public_use-talent-migration.xlsx?raw=true\", sheet_name = \"Skill Migration\")\n",
        "max_skill_migration = d.groupby(\"skill_group_category\")[\"net_per_10K_2017\"].max()\n",
        "print(max_skill_migration)\n",
        "min_skill_migration = d.groupby(\"skill_group_category\")[\"net_per_10K_2017\"].min()\n",
        "print(min_skill_migration)\n",
        "skill_migration_range = max_skill_migration - min_skill_migration\n",
        "print(skill_migration_range)\n",
        "max_skill_migration_ = d.groupby(\"skill_group_category\")[\"net_per_10K_2019\"].max()\n",
        "min_skill_migration_ = d.groupby(\"skill_group_category\")[\"net_per_10K_2019\"].min()\n",
        "skill_migration_range_ = max_skill_migration_ - min_skill_migration_\n",
        "print(skill_migration_range_)\n",
        "max_skill_migration__ = d.groupby(\"wb_income\")[\"net_per_10K_2015\"].max()\n",
        "min_skill_migration__ = d.groupby(\"wb_income\")[\"net_per_10K_2015\"].min()\n",
        "skill_migration_range__ = max_skill_migration__ - min_skill_migration__\n",
        "print(skill_migration_range__)"
      ],
      "execution_count": 33,
      "outputs": [
        {
          "output_type": "stream",
          "name": "stdout",
          "text": [
            "skill_group_category\n",
            "Business Skills                1048.20\n",
            "Disruptive Tech Skills         1478.56\n",
            "Soft Skills                    1572.35\n",
            "Specialized Industry Skills    1906.14\n",
            "Tech Skills                    1336.78\n",
            "Name: net_per_10K_2017, dtype: float64\n",
            "skill_group_category\n",
            "Business Skills               -3471.35\n",
            "Disruptive Tech Skills        -2646.19\n",
            "Soft Skills                   -2542.23\n",
            "Specialized Industry Skills   -6604.67\n",
            "Tech Skills                   -6060.98\n",
            "Name: net_per_10K_2017, dtype: float64\n",
            "skill_group_category\n",
            "Business Skills                4519.55\n",
            "Disruptive Tech Skills         4124.75\n",
            "Soft Skills                    4114.58\n",
            "Specialized Industry Skills    8510.81\n",
            "Tech Skills                    7397.76\n",
            "Name: net_per_10K_2017, dtype: float64\n",
            "skill_group_category\n",
            "Business Skills                4543.96\n",
            "Disruptive Tech Skills         3651.81\n",
            "Soft Skills                    5528.47\n",
            "Specialized Industry Skills    4036.44\n",
            "Tech Skills                    3424.45\n",
            "Name: net_per_10K_2019, dtype: float64\n",
            "wb_income\n",
            "High income            4246.50\n",
            "Low income             4556.42\n",
            "Lower middle income    2148.36\n",
            "Upper middle income    4045.43\n",
            "Name: net_per_10K_2015, dtype: float64\n"
          ]
        }
      ]
    }
  ]
}