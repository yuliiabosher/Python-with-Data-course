{
  "cells": [
    {
      "cell_type": "markdown",
      "metadata": {
        "id": "view-in-github",
        "colab_type": "text"
      },
      "source": [
        "<a href=\"https://colab.research.google.com/github/yuliiabosher/Python-with-Data-course/blob/main/PythonFunctions_Datetime.ipynb\" target=\"_parent\"><img src=\"https://colab.research.google.com/assets/colab-badge.svg\" alt=\"Open In Colab\"/></a>"
      ]
    },
    {
      "cell_type": "markdown",
      "metadata": {
        "id": "Vvcpt-18AqVE"
      },
      "source": [
        "<a href=\"https://colab.research.google.com/github/StefanMeyer7/Python-Fundamentals/blob/main/PythonFunctions_Datetime.ipynb\" target=\"_parent\"><img src=\"https://colab.research.google.com/assets/colab-badge.svg\" alt=\"Open In Colab\"/></a>"
      ]
    },
    {
      "cell_type": "markdown",
      "metadata": {
        "id": "nP_edUEZceHu"
      },
      "source": [
        "# User-defined functions using datetime library\n",
        "\n",
        "---\n"
      ]
    },
    {
      "cell_type": "markdown",
      "metadata": {
        "id": "GDXBwTsRceya"
      },
      "source": [
        "When working with dates and times, fairly common in data sets, we need to be able to extract certain bits of information.  \n",
        "\n",
        "In Python, as with other languages, dates and times are stored in a data structure that combines the two together and stores the information as a number of seconds since a start point (often 1st January 1900).  This is obviously a large number but every bit of information about a date can be extracted from it and used to give a wide range of information.  \n",
        "\n",
        "Have a go at the exercises below to use a selection of datetime functions and return a new bit of data from each, to be printed by the caller.\n",
        "\n",
        "Before you can use datetime functions you will need to import them. Import the datetime functions like this:\n",
        "\n",
        "`from datetime import datetime`  \n",
        "\n",
        "\n",
        "For more information about datetime functions visit [w3Schools-Python datetime](https://www.w3schools.com/python/python_datetime.asp) and [Python docs](https://docs.python.org/3/library/datetime.html)"
      ]
    },
    {
      "cell_type": "markdown",
      "metadata": {
        "id": "rzT7PoS9cgpc"
      },
      "source": [
        "---\n",
        "### Exercise 1 - print current date and time\n",
        "\n",
        "Write a function that will return the date and time now.  The caller will print it.  \n",
        "\n",
        "*Hint:  the format has been added for you, the other exercises will follow a similar format.   Always remember to import datetime from datetime as shown below*"
      ]
    },
    {
      "cell_type": "code",
      "execution_count": null,
      "metadata": {
        "id": "pbPPKT1DciHO"
      },
      "outputs": [],
      "source": [
        "from datetime import datetime, timezone #this import does not work correctly\n",
        "# add your function, called get_datetime_now() below here\n",
        "def get_datetime_now():\n",
        "  x=datetime.datetime.now()\n",
        "  print(x)\n",
        "\n",
        "now_date_time = get_datetime_now()\n",
        "print(now_date_time)"
      ]
    },
    {
      "cell_type": "code",
      "source": [
        "#from datetime import datetime, timezone - this import does not work correctly\n",
        "# add your function, called get_datetime_now() below here\n",
        "import datetime\n",
        "def get_datetime_now():\n",
        "  x = datetime.datetime.now()\n",
        "  return(x)\n",
        "now_date_time = get_datetime_now()\n",
        "print(now_date_time)"
      ],
      "metadata": {
        "colab": {
          "base_uri": "https://localhost:8080/"
        },
        "id": "tib9VIliGOh_",
        "outputId": "7f6cca8f-9ccb-4f2b-a86c-c4ab33fb3265"
      },
      "execution_count": null,
      "outputs": [
        {
          "output_type": "stream",
          "name": "stdout",
          "text": [
            "2024-01-05 19:50:40.329340\n"
          ]
        }
      ]
    },
    {
      "cell_type": "markdown",
      "metadata": {
        "id": "-Ep29Zcqcj2J"
      },
      "source": [
        "---\n",
        "Exercise 2 - print the current year\n",
        "\n",
        "Write a function that will return the current year.  The caller will print the year."
      ]
    },
    {
      "cell_type": "code",
      "execution_count": null,
      "metadata": {
        "id": "mvG4Fc4GcklO",
        "colab": {
          "base_uri": "https://localhost:8080/"
        },
        "outputId": "2c571d15-539d-4255-ceeb-9cd3a295e4c1"
      },
      "outputs": [
        {
          "output_type": "stream",
          "name": "stdout",
          "text": [
            "2024\n"
          ]
        }
      ],
      "source": [
        "import datetime\n",
        "\n",
        "def get_datetime_now():\n",
        "  x = datetime.datetime.now()\n",
        "  return(x.year)\n",
        "now_date_time = get_datetime_now()\n",
        "print(now_date_time)"
      ]
    },
    {
      "cell_type": "markdown",
      "metadata": {
        "id": "AVu3ZVE3cljj"
      },
      "source": [
        "---\n",
        "### Exercise 3 - print the current day of the week\n",
        "\n",
        "Write a function that will return the current day of the week.  The caller will print it."
      ]
    },
    {
      "cell_type": "code",
      "execution_count": null,
      "metadata": {
        "id": "YGdApxsLcmSS",
        "colab": {
          "base_uri": "https://localhost:8080/"
        },
        "outputId": "7be98550-a7b5-4b6f-f68c-ebfb179e7700"
      },
      "outputs": [
        {
          "output_type": "stream",
          "name": "stdout",
          "text": [
            "Friday\n"
          ]
        }
      ],
      "source": [
        "import datetime\n",
        "\n",
        "def get_datetime_now():\n",
        "  x = datetime.datetime.now()\n",
        "  return(x.strftime(\"%A\"))\n",
        "now_date_time = get_datetime_now()\n",
        "print(now_date_time)"
      ]
    },
    {
      "cell_type": "markdown",
      "metadata": {
        "id": "PkkISgZscnZ3"
      },
      "source": [
        "---\n",
        "### Exercise 4 - create a new date\n",
        "\n",
        "Write a function that will take 3 parameters, day, month, year (3 numbers that make a valid date) and will create, and return a new date.  The caller will print the date."
      ]
    },
    {
      "cell_type": "code",
      "execution_count": null,
      "metadata": {
        "id": "7XXYuEhDcnz7",
        "colab": {
          "base_uri": "https://localhost:8080/"
        },
        "outputId": "9a443cb9-ca03-4f63-a6d4-d7160c1f9087"
      },
      "outputs": [
        {
          "output_type": "stream",
          "name": "stdout",
          "text": [
            "2024-01-05\n"
          ]
        }
      ],
      "source": [
        "#The task is not completely clear, so I offer two options:\n",
        "import datetime\n",
        "def get_datetime_now():\n",
        "  x = datetime.date.today()\n",
        "  return(x)\n",
        "now_date_time = get_datetime_now()\n",
        "print(now_date_time)"
      ]
    },
    {
      "cell_type": "code",
      "source": [
        "#The task is not completely clear, so I offer two options:\n",
        "import datetime\n",
        "def get_datetime_now():\n",
        "  x = datetime.date(2024,1,5)\n",
        "  return(x)\n",
        "now_date_time = get_datetime_now()\n",
        "print(now_date_time)"
      ],
      "metadata": {
        "colab": {
          "base_uri": "https://localhost:8080/"
        },
        "id": "NAPQhzMQYHnr",
        "outputId": "677f77f5-0125-431c-f701-35a579b14444"
      },
      "execution_count": null,
      "outputs": [
        {
          "output_type": "stream",
          "name": "stdout",
          "text": [
            "2024-01-05\n"
          ]
        }
      ]
    },
    {
      "cell_type": "markdown",
      "metadata": {
        "id": "LGb976a3coqq"
      },
      "source": [
        "---\n",
        "### Exercise 5 - create a valid date\n",
        "\n",
        "Write a function that will take 3 parameters, day, month, year (3 numbers) and will:  \n",
        "*   check that the month is between 1 and 12  \n",
        "*   check that the day is valid for the month (e.g. if the month is 2, then the day must be between 1 and 28 (don't worry about leap years for the moment)  \n",
        "*   if the date is not valid, print an error message and return None (which the caller will print)  \n",
        "*   if the date is valid, store it in a new variable, return the variable and the caller will print it."
      ]
    },
    {
      "cell_type": "code",
      "execution_count": null,
      "metadata": {
        "id": "63Z80bSocpFc",
        "colab": {
          "base_uri": "https://localhost:8080/"
        },
        "outputId": "c424efa7-5171-4205-f2df-c9c7f30c7807"
      },
      "outputs": [
        {
          "output_type": "stream",
          "name": "stdout",
          "text": [
            "Error\n",
            "None\n",
            "Error\n",
            "None\n",
            "2022-12-30\n"
          ]
        }
      ],
      "source": [
        "import datetime\n",
        "def valid_date(year, month, day):\n",
        "\n",
        "    if (month<1 or month>12 or day<1 or day>31):\n",
        "      print(\"Error\")\n",
        "      return\n",
        "    elif (month==2 and (day<1 or day>28)):\n",
        "      print(\"Error\")\n",
        "      return\n",
        "    elif ((month==4 or month==6 or month==9 or month==11) and (day<1 or day>30)):\n",
        "      print(\"Error\")\n",
        "      return\n",
        "    else:\n",
        "      x = datetime.date(year, month, day)\n",
        "      return(x)\n",
        "\n",
        "print(valid_date(2021, 1, 32))\n",
        "print(valid_date(2023, 13, 4))\n",
        "print(valid_date(2022, 12, 30))"
      ]
    },
    {
      "cell_type": "markdown",
      "metadata": {
        "id": "R5ZBHZXScqYQ"
      },
      "source": [
        "---\n",
        "### Exercise 6 - is it a leap year?\n",
        "\n",
        "Write a function that will take a date as a parameter (you will need to create the date variable before calling the function) and will determine if it is a leap year, returning True or False.\n",
        "\n",
        "*Hint:  a leap year is a year that is divisible by 4 but the centuries (1900, 2000, etc are only leap years if they are divisible by 400)*"
      ]
    },
    {
      "cell_type": "code",
      "execution_count": 11,
      "metadata": {
        "id": "pj8Y8PAqcq4u",
        "outputId": "bf159b25-5898-4002-c678-f584c79060ac",
        "colab": {
          "base_uri": "https://localhost:8080/"
        }
      },
      "outputs": [
        {
          "output_type": "stream",
          "name": "stdout",
          "text": [
            "True\n"
          ]
        }
      ],
      "source": [
        "from datetime import datetime\n",
        "def is_leap_year(date_to_check):\n",
        "  year=int(date_to_check.strftime(\"%Y\"))\n",
        "  if year%4==0 and year%400==0:\n",
        "    return True\n",
        "  elif year%100!=0 and year%4==0:\n",
        "    return True\n",
        "  else:\n",
        "    return False\n",
        "\n",
        "check_date = datetime(1996, 12, 15)\n",
        "print(is_leap_year(check_date))\n",
        "\n",
        "check_date = datetime(1996, 12, 15)\n",
        "if is_leap_year(check_date):\n",
        "  print(check_date.strftime(\"%Y\"), \"is a leap year\")\n",
        "else:\n",
        "  print(check_date.strftime(\"%Y\"), \"is not a leap year\")"
      ]
    },
    {
      "cell_type": "code",
      "source": [
        "from datetime import datetime\n",
        "def is_leap_year():\n",
        "  check_date = datetime(1996, 12, 15)\n",
        "  year=int(check_date.strftime(\"%Y\"))\n",
        "  if year%4==0 and year%400==0:\n",
        "    print(check_date.strftime(\"%Y\"), \"is a leap year (century)\")\n",
        "  elif year%100!=0 and year%4==0:\n",
        "    print(check_date.strftime(\"%Y\"), \"is a leap year\")\n",
        "  else:\n",
        "    print(check_date.strftime(\"%Y\"), \"is not a leap year\")\n",
        "is_leap_year()"
      ],
      "metadata": {
        "colab": {
          "base_uri": "https://localhost:8080/"
        },
        "id": "-locegfiA3zU",
        "outputId": "1557606e-36b8-4990-c48d-ec7b0ede64dc"
      },
      "execution_count": null,
      "outputs": [
        {
          "output_type": "stream",
          "name": "stdout",
          "text": [
            "1996 is a leap year\n"
          ]
        }
      ]
    },
    {
      "cell_type": "markdown",
      "metadata": {
        "id": "7SIry7OwcuMS"
      },
      "source": [
        "---\n",
        "### Exercise 7 - display parts of date/time\n",
        "\n",
        "Write a function that will take a date and print from it the following:  \n",
        "*  given date and time  \n",
        "*  year (in full)\n",
        "*  month (as a number)\n",
        "*  month name\n",
        "*  week number of the year  \n",
        "*  weekday of the week (as a number)  \n",
        "*  day of year  \n",
        "*  day of the month  \n",
        "*  day of week (as a name)  \n",
        "\n",
        "*Hint:  see w3Schools for [strftime reference](https://www.w3schools.com/python/python_datetime.asp)*\n",
        "\n"
      ]
    },
    {
      "cell_type": "code",
      "execution_count": null,
      "metadata": {
        "id": "iKsefU9ncuzl",
        "colab": {
          "base_uri": "https://localhost:8080/"
        },
        "outputId": "5bd21758-8db2-436c-b890-3933cc8164cc"
      },
      "outputs": [
        {
          "output_type": "stream",
          "name": "stdout",
          "text": [
            "2024-01-08 15:55:54.956370\n",
            "2024\n",
            "01\n",
            "January\n",
            "02\n",
            "1\n",
            "008\n",
            "08\n",
            "Monday\n"
          ]
        }
      ],
      "source": [
        "import datetime\n",
        "def get_datetime_now():\n",
        "  x = datetime.datetime.now()\n",
        "  print(x)\n",
        "  print(x.year)\n",
        "  print(x.strftime(\"%m\"))\n",
        "  print(x.strftime(\"%B\"))\n",
        "  print(x.strftime(\"%W\"))\n",
        "  print(x.strftime(\"%w\"))\n",
        "  print(x.strftime(\"%j\"))\n",
        "  print(x.strftime(\"%d\"))\n",
        "  print(x.strftime(\"%A\"))\n",
        "get_datetime_now()"
      ]
    },
    {
      "cell_type": "markdown",
      "metadata": {
        "id": "fvDfw6C6cvwA"
      },
      "source": [
        "---\n",
        "### Exercise 8 - next 6 days\n",
        "\n",
        "Write a function that will take a date and generate the dates of the following 6 days.  It should print each of the 6 days in the form:  \n",
        "\n",
        "DAY OF THE WEEK, MONTH NAME, FULL YEAR\n",
        "\n",
        "Hint:  to generate the days, use the function datetime.timedelta(), there is a good example of its use [here](https://www.geeksforgeeks.org/python-datetime-timedelta-function/)  "
      ]
    },
    {
      "cell_type": "code",
      "execution_count": null,
      "metadata": {
        "id": "qPrZzv7_cwJi",
        "colab": {
          "base_uri": "https://localhost:8080/"
        },
        "outputId": "6b928fa7-5c15-41ae-d121-d783a8c8653f"
      },
      "outputs": [
        {
          "output_type": "stream",
          "name": "stdout",
          "text": [
            "Today: 2024-01-08 16:38:37.244079\n",
            "First day after this date: Tuesday January 2024\n",
            "Second day after this date: Wednesday January 2024\n",
            "Third day after this date: Thursday January 2024\n",
            "Fourth day after this date: Friday January 2024\n",
            "Fifth day after this date: Saturday January 2024\n",
            "Sixth day after this date: Sunday January 2024\n"
          ]
        }
      ],
      "source": [
        "from datetime import datetime, timedelta\n",
        "def next_six_days():\n",
        "  today = datetime.now()\n",
        "  next_1_day = today + timedelta(days=1)\n",
        "  next_2_day = today + timedelta(days=2)\n",
        "  next_3_day = today + timedelta(days=3)\n",
        "  next_4_day = today + timedelta(days=4)\n",
        "  next_5_day = today + timedelta(days=5)\n",
        "  next_6_day = today + timedelta(days=6)\n",
        "  print(\"Today:\", today)\n",
        "  print(\"First day after this date:\", next_1_day.strftime(\"%A\"), next_1_day.strftime(\"%B\"), next_1_day.strftime(\"%Y\"))\n",
        "  print(\"Second day after this date:\", next_2_day.strftime(\"%A\"), next_2_day.strftime(\"%B\"), next_2_day.strftime(\"%Y\"))\n",
        "  print(\"Third day after this date:\", next_3_day.strftime(\"%A\"), next_3_day.strftime(\"%B\"), next_3_day.strftime(\"%Y\"))\n",
        "  print(\"Fourth day after this date:\", next_4_day.strftime(\"%A\"), next_4_day.strftime(\"%B\"), next_4_day.strftime(\"%Y\"))\n",
        "  print(\"Fifth day after this date:\", next_5_day.strftime(\"%A\"), next_5_day.strftime(\"%B\"), next_5_day.strftime(\"%Y\"))\n",
        "  print(\"Sixth day after this date:\", next_6_day.strftime(\"%A\"), next_6_day.strftime(\"%B\"), next_6_day.strftime(\"%Y\"))\n",
        "next_six_days()"
      ]
    }
  ],
  "metadata": {
    "colab": {
      "provenance": [],
      "include_colab_link": true
    },
    "kernelspec": {
      "display_name": "Python 3",
      "name": "python3"
    },
    "language_info": {
      "name": "python"
    }
  },
  "nbformat": 4,
  "nbformat_minor": 0
}