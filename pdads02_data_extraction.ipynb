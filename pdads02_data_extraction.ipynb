{
 "cells": [
  {
   "cell_type": "markdown",
   "id": "6cbdb49b",
   "metadata": {},
   "source": [
    "# PDA data science - Data extraction\n",
    "<div class=\"alert alert-block alert-info\"> \n",
    "    Notebook 2: by michael.ferrie@edinburghcollege.ac.uk <br> Edinburgh College, January 2024\n",
    "</div>"
   ]
  },
  {
   "cell_type": "markdown",
   "id": "871f1f53",
   "metadata": {},
   "source": [
    "# Introduction\n",
    "\n",
    "This notebook should help you to work with different types of data, read through the notebook and run the examples. Download the files from Moodle to run the examples on, make sure you have the files in the same directory as this notebook (or add the path).\n",
    "\n",
    "* Raw text files\n",
    "* JSON files\n",
    "* CSV files"
   ]
  },
  {
   "cell_type": "markdown",
   "id": "e3ab47e2-4f8c-4cdb-8093-dea50ab482cb",
   "metadata": {},
   "source": [
    "## Raw text sources\n",
    "\n",
    "### Open and close manually\n",
    "Python has a few ways of getting data from files, `gettysburg.txt` is a simple text file, first check if the file exists in the path, change the path to the location of the file on your computer."
   ]
  },
  {
   "cell_type": "code",
   "execution_count": 1,
   "id": "5f8e2d4a",
   "metadata": {},
   "outputs": [
    {
     "data": {
      "text/plain": [
       "True"
      ]
     },
     "execution_count": 1,
     "metadata": {},
     "output_type": "execute_result"
    }
   ],
   "source": [
    "# This will return true if file exists\n",
    "\n",
    "import os.path\n",
    "# Change this path here\n",
    "file1 = \"/home/yulia/Desktop/Code/gettysburg.txt\"\n",
    "os.path.exists(file1)"
   ]
  },
  {
   "cell_type": "code",
   "execution_count": 2,
   "id": "f4371ca3-7f84-493b-bbe3-39a717f47cca",
   "metadata": {},
   "outputs": [
    {
     "name": "stdout",
     "output_type": "stream",
     "text": [
      "Fourscore and seven years ago our fathers brought forth on this continent\n",
      "a new nation, conceived in Liberty, and dedicated to the proposition that all men are created equal.\n",
      "Now we are engaged in a great civil war, testing whether that nation, \n",
      "or any nation so conceived and so dedicated, can long endure. \n",
      "We are met on a great battle-field of that war. \n",
      "We have come to dedicate a portion of that field, \n",
      "as a final resting place for those who here gave their lives that that nation might live. \n",
      "It is altogether fitting and proper that we should do this.\n",
      "But, in a larger sense, we can not dedicate-we can not consecrate-we can not hallow-this ground. \n",
      "The brave men, living and dead, who struggled here, have consecrated it, \n",
      "far above our poor power to add or detract. \n",
      "The world will little note, nor long remember what we say here, \n",
      "but it can never forget what they did here. \n",
      "It is for us the living, rather, \n",
      "to be dedicated here to the unfinished work which they who fought here have thus far so nobly advanced. \n",
      "It is rather for us to be here dedicated to the great task \n",
      "remaining before us-that from these honored dead we take increased devotion \n",
      "to that cause for which they gave the last full measure of devotion\n",
      "that we here highly resolve that these dead shall not have died in vain-that \n",
      "this nation, \n",
      "under God, \n",
      "shall have a new birth of freedom\n",
      "and that government of the people, \n",
      "by the people, \n",
      "for the people shall not perish from the earth.\n"
     ]
    }
   ],
   "source": [
    "# open file1.txt for reading text, rt means read text\n",
    "myfile = open(file1, \"rt\")\n",
    "\n",
    "# read the entire file to string\n",
    "contents = myfile.read()\n",
    "\n",
    "# close the file\n",
    "myfile.close()\n",
    "\n",
    "# print string contents\n",
    "print(contents)       "
   ]
  },
  {
   "cell_type": "markdown",
   "id": "ab1073e0-b5cb-4cdc-b467-ca826521caa5",
   "metadata": {},
   "source": [
    "### With open\n",
    "\n",
    "Using with open is another method that will automatically close the file once the code is finished, it is important to close the file as soon we are finished with it, we don't want to keep the program in the memory."
   ]
  },
  {
   "cell_type": "code",
   "execution_count": 3,
   "id": "a81e55b1",
   "metadata": {},
   "outputs": [
    {
     "name": "stdout",
     "output_type": "stream",
     "text": [
      "Fourscore and seven years ago our fathers brought forth on this continent\n",
      "a new nation, conceived in Liberty, and dedicated to the proposition that all men are created equal.\n",
      "Now we are engaged in a great civil war, testing whether that nation, \n",
      "or any nation so conceived and so dedicated, can long endure. \n",
      "We are met on a great battle-field of that war. \n",
      "We have come to dedicate a portion of that field, \n",
      "as a final resting place for those who here gave their lives that that nation might live. \n",
      "It is altogether fitting and proper that we should do this.\n",
      "But, in a larger sense, we can not dedicate-we can not consecrate-we can not hallow-this ground. \n",
      "The brave men, living and dead, who struggled here, have consecrated it, \n",
      "far above our poor power to add or detract. \n",
      "The world will little note, nor long remember what we say here, \n",
      "but it can never forget what they did here. \n",
      "It is for us the living, rather, \n",
      "to be dedicated here to the unfinished work which they who fought here have thus far so nobly advanced. \n",
      "It is rather for us to be here dedicated to the great task \n",
      "remaining before us-that from these honored dead we take increased devotion \n",
      "to that cause for which they gave the last full measure of devotion\n",
      "that we here highly resolve that these dead shall not have died in vain-that \n",
      "this nation, \n",
      "under God, \n",
      "shall have a new birth of freedom\n",
      "and that government of the people, \n",
      "by the people, \n",
      "for the people shall not perish from the earth.\n"
     ]
    }
   ],
   "source": [
    "# with open, print, then close the contents\n",
    "with open (file1, 'rt') as myfile:  \n",
    "    contents = myfile.read()              \n",
    "print(contents)                    "
   ]
  },
  {
   "cell_type": "markdown",
   "id": "45155fd2",
   "metadata": {},
   "source": [
    "### Line by line\n",
    "\n",
    "Sometimes we may want to read the file line by line, we can do this using with open and a for loop."
   ]
  },
  {
   "cell_type": "code",
   "execution_count": 4,
   "id": "f6db33ab",
   "metadata": {
    "tags": []
   },
   "outputs": [
    {
     "name": "stdout",
     "output_type": "stream",
     "text": [
      "Fourscore and seven years ago our fathers brought forth on this continent\n",
      "\n",
      "a new nation, conceived in Liberty, and dedicated to the proposition that all men are created equal.\n",
      "\n",
      "Now we are engaged in a great civil war, testing whether that nation, \n",
      "\n",
      "or any nation so conceived and so dedicated, can long endure. \n",
      "\n",
      "We are met on a great battle-field of that war. \n",
      "\n",
      "We have come to dedicate a portion of that field, \n",
      "\n",
      "as a final resting place for those who here gave their lives that that nation might live. \n",
      "\n",
      "It is altogether fitting and proper that we should do this.\n",
      "\n",
      "But, in a larger sense, we can not dedicate-we can not consecrate-we can not hallow-this ground. \n",
      "\n",
      "The brave men, living and dead, who struggled here, have consecrated it, \n",
      "\n",
      "far above our poor power to add or detract. \n",
      "\n",
      "The world will little note, nor long remember what we say here, \n",
      "\n",
      "but it can never forget what they did here. \n",
      "\n",
      "It is for us the living, rather, \n",
      "\n",
      "to be dedicated here to the unfinished work which they who fought here have thus far so nobly advanced. \n",
      "\n",
      "It is rather for us to be here dedicated to the great task \n",
      "\n",
      "remaining before us-that from these honored dead we take increased devotion \n",
      "\n",
      "to that cause for which they gave the last full measure of devotion\n",
      "\n",
      "that we here highly resolve that these dead shall not have died in vain-that \n",
      "\n",
      "this nation, \n",
      "\n",
      "under God, \n",
      "\n",
      "shall have a new birth of freedom\n",
      "\n",
      "and that government of the people, \n",
      "\n",
      "by the people, \n",
      "\n",
      "for the people shall not perish from the earth.\n"
     ]
    }
   ],
   "source": [
    "# read file line by line\n",
    "with open (file1, 'rt') as myfile:  \n",
    "    for myline in myfile:              \n",
    "        print(myline)"
   ]
  },
  {
   "cell_type": "markdown",
   "id": "95260f4b-7638-4333-9887-7a092cd6a42f",
   "metadata": {},
   "source": [
    "### Putting lines in a list\n",
    "\n",
    "We can read the file line by line and put each line in a list. We can use the read lines function, then loop over the file and append the lines into a list. Each line becomes a new item in the list."
   ]
  },
  {
   "cell_type": "code",
   "execution_count": 5,
   "id": "3157fa55-dba6-4b26-ba8c-9b75c6b42422",
   "metadata": {},
   "outputs": [
    {
     "name": "stdout",
     "output_type": "stream",
     "text": [
      "['Fourscore and seven years ago our fathers brought forth on this continent\\n', 'a new nation, conceived in Liberty, and dedicated to the proposition that all men are created equal.\\n', 'Now we are engaged in a great civil war, testing whether that nation, \\n', 'or any nation so conceived and so dedicated, can long endure. \\n', 'We are met on a great battle-field of that war. \\n', 'We have come to dedicate a portion of that field, \\n', 'as a final resting place for those who here gave their lives that that nation might live. \\n', 'It is altogether fitting and proper that we should do this.\\n', 'But, in a larger sense, we can not dedicate-we can not consecrate-we can not hallow-this ground. \\n', 'The brave men, living and dead, who struggled here, have consecrated it, \\n', 'far above our poor power to add or detract. \\n', 'The world will little note, nor long remember what we say here, \\n', 'but it can never forget what they did here. \\n', 'It is for us the living, rather, \\n', 'to be dedicated here to the unfinished work which they who fought here have thus far so nobly advanced. \\n', 'It is rather for us to be here dedicated to the great task \\n', 'remaining before us-that from these honored dead we take increased devotion \\n', 'to that cause for which they gave the last full measure of devotion\\n', 'that we here highly resolve that these dead shall not have died in vain-that \\n', 'this nation, \\n', 'under God, \\n', 'shall have a new birth of freedom\\n', 'and that government of the people, \\n', 'by the people, \\n', 'for the people shall not perish from the earth.']\n"
     ]
    }
   ],
   "source": [
    "# first make an empty list\n",
    "my_lines = []\n",
    "\n",
    "# then open the file and read the lines\n",
    "my_file = open(file1)\n",
    "all_the_lines = my_file.readlines()\n",
    "\n",
    "# loop over the file appending lines to the list\n",
    "for i in all_the_lines:\n",
    "    my_lines.append(i)\n",
    "print(my_lines)              "
   ]
  },
  {
   "cell_type": "markdown",
   "id": "f705a037-aefb-4152-97c3-c4033e04a89d",
   "metadata": {},
   "source": [
    "### Accessing items in the list\n",
    "\n",
    "Access the items in the list using the index numbers indexing starts at zero."
   ]
  },
  {
   "cell_type": "code",
   "execution_count": 6,
   "id": "6a7b0c20-2760-4a66-960c-ad3a782027c8",
   "metadata": {},
   "outputs": [
    {
     "name": "stdout",
     "output_type": "stream",
     "text": [
      "Fourscore and seven years ago our fathers brought forth on this continent\n",
      "\n"
     ]
    }
   ],
   "source": [
    "# print whole list\n",
    "print(my_lines[0])"
   ]
  },
  {
   "cell_type": "code",
   "execution_count": 7,
   "id": "7a4acc28-e367-426e-9763-7457ac155ee4",
   "metadata": {},
   "outputs": [
    {
     "name": "stdout",
     "output_type": "stream",
     "text": [
      "['Fourscore and seven years ago our fathers brought forth on this continent\\n', 'a new nation, conceived in Liberty, and dedicated to the proposition that all men are created equal.\\n', 'Now we are engaged in a great civil war, testing whether that nation, \\n']\n"
     ]
    }
   ],
   "source": [
    "# print a range\n",
    "print(my_lines[0:3])"
   ]
  },
  {
   "cell_type": "code",
   "execution_count": 8,
   "id": "0f5c14bc-8691-4d31-9aaf-9df4abb435b5",
   "metadata": {},
   "outputs": [
    {
     "name": "stdout",
     "output_type": "stream",
     "text": [
      "['Fourscore and seven years ago our fathers brought forth on this continent\\n', 'Now we are engaged in a great civil war, testing whether that nation, \\n', 'We are met on a great battle-field of that war. \\n', 'as a final resting place for those who here gave their lives that that nation might live. \\n', 'But, in a larger sense, we can not dedicate-we can not consecrate-we can not hallow-this ground. \\n']\n"
     ]
    }
   ],
   "source": [
    "# print every second line\n",
    "# the 3rd parameter is called step, setp over every second line\n",
    "print(my_lines[0:10:2])"
   ]
  },
  {
   "cell_type": "code",
   "execution_count": 9,
   "id": "f22fa3f4-5a1d-4451-9e14-971efe0f349c",
   "metadata": {},
   "outputs": [
    {
     "name": "stdout",
     "output_type": "stream",
     "text": [
      "for the people shall not perish from the earth.\n"
     ]
    }
   ],
   "source": [
    "# print last line using negative indexing\n",
    "print(my_lines[-1])"
   ]
  },
  {
   "cell_type": "code",
   "execution_count": 10,
   "id": "d9088b2a-5025-4210-8021-f89dd79f6441",
   "metadata": {},
   "outputs": [
    {
     "name": "stdout",
     "output_type": "stream",
     "text": [
      "by the people, \n",
      "\n"
     ]
    }
   ],
   "source": [
    "# print second last line using negative indexing\n",
    "print(my_lines[-2])"
   ]
  },
  {
   "cell_type": "code",
   "execution_count": 11,
   "id": "a1665dc2-041a-4d3c-8230-0d221d26d957",
   "metadata": {},
   "outputs": [
    {
     "name": "stdout",
     "output_type": "stream",
     "text": [
      "['and that government of the people, \\n', 'by the people, \\n', 'for the people shall not perish from the earth.']\n"
     ]
    }
   ],
   "source": [
    "# print last 3 lines\n",
    "print(my_lines[-3:])"
   ]
  },
  {
   "cell_type": "markdown",
   "id": "80468f50-6285-4034-b6f0-d88b73e05997",
   "metadata": {},
   "source": [
    "### Search the file\n",
    "We can add a conditional into the for loop and while we loop over the file we can check for a match."
   ]
  },
  {
   "cell_type": "code",
   "execution_count": 12,
   "id": "59bb0e80-7d41-4933-a368-fdb1c4569b52",
   "metadata": {},
   "outputs": [
    {
     "name": "stdout",
     "output_type": "stream",
     "text": [
      "we\n",
      "Now we are engaged in a great civil war, testing whether that nation, \n",
      "\n",
      "we\n",
      "It is altogether fitting and proper that we should do this.\n",
      "\n",
      "we\n",
      "But, in a larger sense, we can not dedicate-we can not consecrate-we can not hallow-this ground. \n",
      "\n",
      "we\n",
      "far above our poor power to add or detract. \n",
      "\n",
      "we\n",
      "The world will little note, nor long remember what we say here, \n",
      "\n",
      "we\n",
      "remaining before us-that from these honored dead we take increased devotion \n",
      "\n",
      "we\n",
      "that we here highly resolve that these dead shall not have died in vain-that \n",
      "\n"
     ]
    }
   ],
   "source": [
    "# string to find, return every line with 'we' in it\n",
    "my_string = 'we'\n",
    "\n",
    "for item in my_lines:\n",
    "    if my_string in item:\n",
    "        print(my_string)\n",
    "        print(item)"
   ]
  },
  {
   "cell_type": "markdown",
   "id": "3f3a6e5c-671c-4216-be5a-f9726ba8992c",
   "metadata": {},
   "source": [
    "## JSON files\n",
    "JSON stands for JavaScript Object Notation, JSON is a lightweight format for storing and transporting data. JSON is often used when data is sent from a server to a web page, JSON is \"self-describing\" and easy to understand.\n",
    "\n",
    "Often we can manage large data sets in JSON files, as it allows data to be structured (in fact, this notebook file is actually a JSON file), `presidents.json` contains data on different US presidents. \n",
    "\n",
    "First, check that you can see the file by setting the path."
   ]
  },
  {
   "cell_type": "code",
   "execution_count": 13,
   "id": "7e43a295-2530-45f7-9fc1-282d6feff59a",
   "metadata": {},
   "outputs": [
    {
     "data": {
      "text/plain": [
       "True"
      ]
     },
     "execution_count": 13,
     "metadata": {},
     "output_type": "execute_result"
    }
   ],
   "source": [
    "# this will return true if file exists\n",
    "\n",
    "import os.path\n",
    "# Change this path here\n",
    "file2 = \"/home/yulia/Desktop/Code/presidents.json\"\n",
    "os.path.exists(file2)"
   ]
  },
  {
   "cell_type": "markdown",
   "id": "0b9360e9-d7f3-4541-b1cb-fd2acdd82a2e",
   "metadata": {},
   "source": [
    "### Reading whole JSON files\n",
    "We need to import the JSON library first, then we can work with the file. To parse the file open it and then use the load function to load and convert the data to a list of dictionaries."
   ]
  },
  {
   "cell_type": "code",
   "execution_count": 14,
   "id": "6fd0406b-213b-4cc5-9dca-96d8112b91c4",
   "metadata": {},
   "outputs": [
    {
     "name": "stdout",
     "output_type": "stream",
     "text": [
      "[{'number': 2, 'president': 'John Adams', 'birth_year': 1735, 'death_year': 1826, 'took_office': '1797-03-04', 'left_office': '1801-03-04', 'party': 'Federalist'}, {'number': 3, 'president': 'Thomas Jefferson', 'birth_year': 1743, 'death_year': 1826, 'took_office': '1801-03-04', 'left_office': '1809-03-04', 'party': 'Democratic-Republican'}]\n"
     ]
    }
   ],
   "source": [
    "# import library and open the file\n",
    "import json\n",
    "\n",
    "# the load method will convert the file\n",
    "with open(file2) as f:\n",
    "    data = json.load(f)\n",
    "    \n",
    "    # print the first 3 entries\n",
    "    print(data[1:3])\n",
    "    \n",
    "# close the file\n",
    "f.close()"
   ]
  },
  {
   "cell_type": "markdown",
   "id": "0a084fb6-abbf-4bea-87fb-806c1f812574",
   "metadata": {},
   "source": [
    "### Convert to Dictionary\n",
    "We can read the file as a dictionary, we should specify a key for the dictionary, we can use the number of the president for they key."
   ]
  },
  {
   "cell_type": "code",
   "execution_count": 15,
   "id": "16078d16-ed72-42ce-869e-e87e6f916a25",
   "metadata": {},
   "outputs": [
    {
     "name": "stdout",
     "output_type": "stream",
     "text": [
      "dict_keys([1, 2, 3, 4, 5, 6, 7, 8, 9, 10, 11, 12, 13, 14, 15, 16, 17, 18, 19, 20, 21, 22, 23, 24, 25, 26, 27, 28, 29, 30, 31, 32, 33, 34, 35, 36, 37, 38, 39, 40, 41, 42, 43, 44, 45, 46])\n",
      "{'number': 16, 'president': 'Abraham Lincoln', 'birth_year': 1809, 'death_year': 1865, 'took_office': '1861-03-04', 'left_office': '1865-04-15', 'party': 'Republican'}\n"
     ]
    }
   ],
   "source": [
    "# dictionary comprehension\n",
    "new_dict = {item['number']:item for item in data}\n",
    "\n",
    "# print new keys\n",
    "print(new_dict.keys())\n",
    "\n",
    "# use indexing to return values\n",
    "print(new_dict[16])"
   ]
  },
  {
   "cell_type": "markdown",
   "id": "8d6de00b-7ee4-4f1b-b9a9-de9917574267",
   "metadata": {},
   "source": [
    "## CSV files\n",
    "### Reading whole CSV files\n",
    "For this example we will use a file called `world_contries.csv`"
   ]
  },
  {
   "cell_type": "code",
   "execution_count": 16,
   "id": "3c3840d7-8533-4e0b-a41a-ca74eccfc744",
   "metadata": {},
   "outputs": [
    {
     "data": {
      "text/plain": [
       "True"
      ]
     },
     "execution_count": 16,
     "metadata": {},
     "output_type": "execute_result"
    }
   ],
   "source": [
    "# this will return true if file exists\n",
    "import os.path\n",
    "# Change this path here\n",
    "file3 = \"/home/yulia/Desktop/Code/world_countries.csv\"\n",
    "os.path.exists(file3)"
   ]
  },
  {
   "cell_type": "markdown",
   "id": "5ffb6be4-b971-49a9-8ce7-686bb23c50f6",
   "metadata": {},
   "source": [
    "### Print file line by line\n",
    "We can loop over each line in the file and print it out, using the basic CSV module and using `with open`."
   ]
  },
  {
   "cell_type": "code",
   "execution_count": 17,
   "id": "a8290757-336e-472e-aff7-3a40cdb7acab",
   "metadata": {
    "tags": []
   },
   "outputs": [
    {
     "name": "stdout",
     "output_type": "stream",
     "text": [
      "['Code', 'Longitude', 'Latitude', 'Country']\n",
      "['AD', '42.546245', '1.601554', 'Andorra']\n",
      "['AE', '23.424076', '53.847818', 'United Arab Emirates']\n",
      "['AF', '33.93911', '67.709953', 'Afghanistan']\n",
      "['AG', '17.060816', '-61.796428', 'Antigua and Barbuda']\n",
      "['AI', '18.220554', '-63.068615', 'Anguilla']\n",
      "['AL', '41.153332', '20.168331', 'Albania']\n",
      "['AM', '40.069099', '45.038189', 'Armenia']\n",
      "['AN', '12.226079', '-69.060087', 'Netherlands Antilles']\n",
      "['AO', '-11.202692', '17.873887', 'Angola']\n",
      "['AQ', '-75.250973', '-0.071389', 'Antarctica']\n",
      "['AR', '-38.416097', '-63.616672', 'Argentina']\n",
      "['AS', '-14.270972', '-170.132217', 'American Samoa']\n",
      "['AT', '47.516231', '14.550072', 'Austria']\n",
      "['AU', '-25.274398', '133.775136', 'Australia']\n",
      "['AW', '12.52111', '-69.968338', 'Aruba']\n",
      "['AZ', '40.143105', '47.576927', 'Azerbaijan']\n",
      "['BA', '43.915886', '17.679076', 'Bosnia and Herzegovina']\n",
      "['BB', '13.193887', '-59.543198', 'Barbados']\n",
      "['BD', '23.684994', '90.356331', 'Bangladesh']\n",
      "['BE', '50.503887', '4.469936', 'Belgium']\n",
      "['BF', '12.238333', '-1.561593', 'Burkina Faso']\n",
      "['BG', '42.733883', '25.48583', 'Bulgaria']\n",
      "['BH', '25.930414', '50.637772', 'Bahrain']\n",
      "['BI', '-3.373056', '29.918886', 'Burundi']\n",
      "['BJ', '9.30769', '2.315834', 'Benin']\n",
      "['BM', '32.321384', '-64.75737', 'Bermuda']\n",
      "['BN', '4.535277', '114.727669', 'Brunei']\n",
      "['BO', '-16.290154', '-63.588653', 'Bolivia']\n",
      "['BR', '-14.235004', '-51.92528', 'Brazil']\n",
      "['BS', '25.03428', '-77.39628', 'Bahamas']\n",
      "['BT', '27.514162', '90.433601', 'Bhutan']\n",
      "['BV', '-54.423199', '3.413194', 'Bouvet Island']\n",
      "['BW', '-22.328474', '24.684866', 'Botswana']\n",
      "['BY', '53.709807', '27.953389', 'Belarus']\n",
      "['BZ', '17.189877', '-88.49765', 'Belize']\n",
      "['CA', '56.130366', '-106.346771', 'Canada']\n",
      "['CC', '-12.164165', '96.870956', 'Cocos [Keeling] Islands']\n",
      "['CD', '-4.038333', '21.758664', 'Congo [DRC]']\n",
      "['CF', '6.611111', '20.939444', 'Central African Republic']\n",
      "['CG', '-0.228021', '15.827659', 'Congo [Republic]']\n",
      "['CH', '46.818188', '8.227512', 'Switzerland']\n",
      "['CI', '7.539989', '-5.54708', \"Côte d'Ivoire\"]\n",
      "['CK', '-21.236736', '-159.777671', 'Cook Islands']\n",
      "['CL', '-35.675147', '-71.542969', 'Chile']\n",
      "['CM', '7.369722', '12.354722', 'Cameroon']\n",
      "['CN', '35.86166', '104.195397', 'China']\n",
      "['CO', '4.570868', '-74.297333', 'Colombia']\n",
      "['CR', '9.748917', '-83.753428', 'Costa Rica']\n",
      "['CU', '21.521757', '-77.781167', 'Cuba']\n",
      "['CV', '16.002082', '-24.013197', 'Cape Verde']\n",
      "['CX', '-10.447525', '105.690449', 'Christmas Island']\n",
      "['CY', '35.126413', '33.429859', 'Cyprus']\n",
      "['CZ', '49.817492', '15.472962', 'Czech Republic']\n",
      "['DE', '51.165691', '10.451526', 'Germany']\n",
      "['DJ', '11.825138', '42.590275', 'Djibouti']\n",
      "['DK', '56.26392', '9.501785', 'Denmark']\n",
      "['DM', '15.414999', '-61.370976', 'Dominica']\n",
      "['DO', '18.735693', '-70.162651', 'Dominican Republic']\n",
      "['DZ', '28.033886', '1.659626', 'Algeria']\n",
      "['EC', '-1.831239', '-78.183406', 'Ecuador']\n",
      "['EE', '58.595272', '25.013607', 'Estonia']\n",
      "['EG', '26.820553', '30.802498', 'Egypt']\n",
      "['EH', '24.215527', '-12.885834', 'Western Sahara']\n",
      "['ER', '15.179384', '39.782334', 'Eritrea']\n",
      "['ES', '40.463667', '-3.74922', 'Spain']\n",
      "['ET', '9.145', '40.489673', 'Ethiopia']\n",
      "['FI', '61.92411', '25.748151', 'Finland']\n",
      "['FJ', '-16.578193', '179.414413', 'Fiji']\n",
      "['FK', '-51.796253', '-59.523613', 'Falkland Islands [Islas Malvinas]']\n",
      "['FM', '7.425554', '150.550812', 'Micronesia']\n",
      "['FO', '61.892635', '-6.911806', 'Faroe Islands']\n",
      "['FR', '46.227638', '2.213749', 'France']\n",
      "['GA', '-0.803689', '11.609444', 'Gabon']\n",
      "['GB', '55.378051', '-3.435973', 'United Kingdom']\n",
      "['GD', '12.262776', '-61.604171', 'Grenada']\n",
      "['GE', '42.315407', '43.356892', 'Georgia']\n",
      "['GF', '3.933889', '-53.125782', 'French Guiana']\n",
      "['GG', '49.465691', '-2.585278', 'Guernsey']\n",
      "['GH', '7.946527', '-1.023194', 'Ghana']\n",
      "['GI', '36.137741', '-5.345374', 'Gibraltar']\n",
      "['GL', '71.706936', '-42.604303', 'Greenland']\n",
      "['GM', '13.443182', '-15.310139', 'Gambia']\n",
      "['GN', '9.945587', '-9.696645', 'Guinea']\n",
      "['GP', '16.995971', '-62.067641', 'Guadeloupe']\n",
      "['GQ', '1.650801', '10.267895', 'Equatorial Guinea']\n",
      "['GR', '39.074208', '21.824312', 'Greece']\n",
      "['GS', '-54.429579', '-36.587909', 'South Georgia and the South Sandwich Islands']\n",
      "['GT', '15.783471', '-90.230759', 'Guatemala']\n",
      "['GU', '13.444304', '144.793731', 'Guam']\n",
      "['GW', '11.803749', '-15.180413', 'Guinea-Bissau']\n",
      "['GY', '4.860416', '-58.93018', 'Guyana']\n",
      "['GZ', '31.354676', '34.308825', 'Gaza Strip']\n",
      "['HK', '22.396428', '114.109497', 'Hong Kong']\n",
      "['HM', '-53.08181', '73.504158', 'Heard Island and McDonald Islands']\n",
      "['HN', '15.199999', '-86.241905', 'Honduras']\n",
      "['HR', '45.1', '15.2', 'Croatia']\n",
      "['HT', '18.971187', '-72.285215', 'Haiti']\n",
      "['HU', '47.162494', '19.503304', 'Hungary']\n",
      "['ID', '-0.789275', '113.921327', 'Indonesia']\n",
      "['IE', '53.41291', '-8.24389', 'Ireland']\n",
      "['IL', '31.046051', '34.851612', 'Israel']\n",
      "['IM', '54.236107', '-4.548056', 'Isle of Man']\n",
      "['IN', '20.593684', '78.96288', 'India']\n",
      "['IO', '-6.343194', '71.876519', 'British Indian Ocean Territory']\n",
      "['IQ', '33.223191', '43.679291', 'Iraq']\n",
      "['IR', '32.427908', '53.688046', 'Iran']\n",
      "['IS', '64.963051', '-19.020835', 'Iceland']\n",
      "['IT', '41.87194', '12.56738', 'Italy']\n",
      "['JE', '49.214439', '-2.13125', 'Jersey']\n",
      "['JM', '18.109581', '-77.297508', 'Jamaica']\n",
      "['JO', '30.585164', '36.238414', 'Jordan']\n",
      "['JP', '36.204824', '138.252924', 'Japan']\n",
      "['KE', '-0.023559', '37.906193', 'Kenya']\n",
      "['KG', '41.20438', '74.766098', 'Kyrgyzstan']\n",
      "['KH', '12.565679', '104.990963', 'Cambodia']\n",
      "['KI', '-3.370417', '-168.734039', 'Kiribati']\n",
      "['KM', '-11.875001', '43.872219', 'Comoros']\n",
      "['KN', '17.357822', '-62.782998', 'Saint Kitts and Nevis']\n",
      "['KP', '40.339852', '127.510093', 'North Korea']\n",
      "['KR', '35.907757', '127.766922', 'South Korea']\n",
      "['KW', '29.31166', '47.481766', 'Kuwait']\n",
      "['KY', '19.513469', '-80.566956', 'Cayman Islands']\n",
      "['KZ', '48.019573', '66.923684', 'Kazakhstan']\n",
      "['LA', '19.85627', '102.495496', 'Laos']\n",
      "['LB', '33.854721', '35.862285', 'Lebanon']\n",
      "['LC', '13.909444', '-60.978893', 'Saint Lucia']\n",
      "['LI', '47.166', '9.555373', 'Liechtenstein']\n",
      "['LK', '7.873054', '80.771797', 'Sri Lanka']\n",
      "['LR', '6.428055', '-9.429499', 'Liberia']\n",
      "['LS', '-29.609988', '28.233608', 'Lesotho']\n",
      "['LT', '55.169438', '23.881275', 'Lithuania']\n",
      "['LU', '49.815273', '6.129583', 'Luxembourg']\n",
      "['LV', '56.879635', '24.603189', 'Latvia']\n",
      "['LY', '26.3351', '17.228331', 'Libya']\n",
      "['MA', '31.791702', '-7.09262', 'Morocco']\n",
      "['MC', '43.750298', '7.412841', 'Monaco']\n",
      "['MD', '47.411631', '28.369885', 'Moldova']\n",
      "['ME', '42.708678', '19.37439', 'Montenegro']\n",
      "['MG', '-18.766947', '46.869107', 'Madagascar']\n",
      "['MH', '7.131474', '171.184478', 'Marshall Islands']\n",
      "['MK', '41.608635', '21.745275', 'Macedonia [FYROM]']\n",
      "['ML', '17.570692', '-3.996166', 'Mali']\n",
      "['MM', '21.913965', '95.956223', 'Myanmar [Burma]']\n",
      "['MN', '46.862496', '103.846656', 'Mongolia']\n",
      "['MO', '22.198745', '113.543873', 'Macau']\n",
      "['MP', '17.33083', '145.38469', 'Northern Mariana Islands']\n",
      "['MQ', '14.641528', '-61.024174', 'Martinique']\n",
      "['MR', '21.00789', '-10.940835', 'Mauritania']\n",
      "['MS', '16.742498', '-62.187366', 'Montserrat']\n",
      "['MT', '35.937496', '14.375416', 'Malta']\n",
      "['MU', '-20.348404', '57.552152', 'Mauritius']\n",
      "['MV', '3.202778', '73.22068', 'Maldives']\n",
      "['MW', '-13.254308', '34.301525', 'Malawi']\n",
      "['MX', '23.634501', '-102.552784', 'Mexico']\n",
      "['MY', '4.210484', '101.975766', 'Malaysia']\n",
      "['MZ', '-18.665695', '35.529562', 'Mozambique']\n",
      "['NA', '-22.95764', '18.49041', 'Namibia']\n",
      "['NC', '-20.904305', '165.618042', 'New Caledonia']\n",
      "['NE', '17.607789', '8.081666', 'Niger']\n",
      "['NF', '-29.040835', '167.954712', 'Norfolk Island']\n",
      "['NG', '9.081999', '8.675277', 'Nigeria']\n",
      "['NI', '12.865416', '-85.207229', 'Nicaragua']\n",
      "['NL', '52.132633', '5.291266', 'Netherlands']\n",
      "['NO', '60.472024', '8.468946', 'Norway']\n",
      "['NP', '28.394857', '84.124008', 'Nepal']\n",
      "['NR', '-0.522778', '166.931503', 'Nauru']\n",
      "['NU', '-19.054445', '-169.867233', 'Niue']\n",
      "['NZ', '-40.900557', '174.885971', 'New Zealand']\n",
      "['OM', '21.512583', '55.923255', 'Oman']\n",
      "['PA', '8.537981', '-80.782127', 'Panama']\n",
      "['PE', '-9.189967', '-75.015152', 'Peru']\n",
      "['PF', '-17.679742', '-149.406843', 'French Polynesia']\n",
      "['PG', '-6.314993', '143.95555', 'Papua New Guinea']\n",
      "['PH', '12.879721', '121.774017', 'Philippines']\n",
      "['PK', '30.375321', '69.345116', 'Pakistan']\n",
      "['PL', '51.919438', '19.145136', 'Poland']\n",
      "['PM', '46.941936', '-56.27111', 'Saint Pierre and Miquelon']\n",
      "['PN', '-24.703615', '-127.439308', 'Pitcairn Islands']\n",
      "['PR', '18.220833', '-66.590149', 'Puerto Rico']\n",
      "['PS', '31.952162', '35.233154', 'Palestinian Territories']\n",
      "['PT', '39.399872', '-8.224454', 'Portugal']\n",
      "['PW', '7.51498', '134.58252', 'Palau']\n",
      "['PY', '-23.442503', '-58.443832', 'Paraguay']\n",
      "['QA', '25.354826', '51.183884', 'Qatar']\n",
      "['RE', '-21.115141', '55.536384', 'Réunion']\n",
      "['RO', '45.943161', '24.96676', 'Romania']\n",
      "['RS', '44.016521', '21.005859', 'Serbia']\n",
      "['RU', '61.52401', '105.318756', 'Russia']\n",
      "['RW', '-1.940278', '29.873888', 'Rwanda']\n",
      "['SA', '23.885942', '45.079162', 'Saudi Arabia']\n",
      "['SB', '-9.64571', '160.156194', 'Solomon Islands']\n",
      "['SC', '-4.679574', '55.491977', 'Seychelles']\n",
      "['SD', '12.862807', '30.217636', 'Sudan']\n",
      "['SE', '60.128161', '18.643501', 'Sweden']\n",
      "['SG', '1.352083', '103.819836', 'Singapore']\n",
      "['SH', '-24.143474', '-10.030696', 'Saint Helena']\n",
      "['SI', '46.151241', '14.995463', 'Slovenia']\n",
      "['SJ', '77.553604', '23.670272', 'Svalbard and Jan Mayen']\n",
      "['SK', '48.669026', '19.699024', 'Slovakia']\n",
      "['SL', '8.460555', '-11.779889', 'Sierra Leone']\n",
      "['SM', '43.94236', '12.457777', 'San Marino']\n",
      "['SN', '14.497401', '-14.452362', 'Senegal']\n",
      "['SO', '5.152149', '46.199616', 'Somalia']\n",
      "['SR', '3.919305', '-56.027783', 'Suriname']\n",
      "['ST', '0.18636', '6.613081', 'São Tomé and Príncipe']\n",
      "['SV', '13.794185', '-88.89653', 'El Salvador']\n",
      "['SY', '34.802075', '38.996815', 'Syria']\n",
      "['SZ', '-26.522503', '31.465866', 'Swaziland']\n",
      "['TC', '21.694025', '-71.797928', 'Turks and Caicos Islands']\n",
      "['TD', '15.454166', '18.732207', 'Chad']\n",
      "['TF', '-49.280366', '69.348557', 'French Southern Territories']\n",
      "['TG', '8.619543', '0.824782', 'Togo']\n",
      "['TH', '15.870032', '100.992541', 'Thailand']\n",
      "['TJ', '38.861034', '71.276093', 'Tajikistan']\n",
      "['TK', '-8.967363', '-171.855881', 'Tokelau']\n",
      "['TL', '-8.874217', '125.727539', 'Timor-Leste']\n",
      "['TM', '38.969719', '59.556278', 'Turkmenistan']\n",
      "['TN', '33.886917', '9.537499', 'Tunisia']\n",
      "['TO', '-21.178986', '-175.198242', 'Tonga']\n",
      "['TR', '38.963745', '35.243322', 'Turkey']\n",
      "['TT', '10.691803', '-61.222503', 'Trinidad and Tobago']\n",
      "['TV', '-7.109535', '177.64933', 'Tuvalu']\n",
      "['TW', '23.69781', '120.960515', 'Taiwan']\n",
      "['TZ', '-6.369028', '34.888822', 'Tanzania']\n",
      "['UA', '48.379433', '31.16558', 'Ukraine']\n",
      "['UG', '1.373333', '32.290275', 'Uganda']\n",
      "['UM', '', '', 'U.S. Minor Outlying Islands']\n",
      "['US', '37.09024', '-95.712891', 'United States']\n",
      "['UY', '-32.522779', '-55.765835', 'Uruguay']\n",
      "['UZ', '41.377491', '64.585262', 'Uzbekistan']\n",
      "['VA', '41.902916', '12.453389', 'Vatican City']\n",
      "['VC', '12.984305', '-61.287228', 'Saint Vincent and the Grenadines']\n",
      "['VE', '6.42375', '-66.58973', 'Venezuela']\n",
      "['VG', '18.420695', '-64.639968', 'British Virgin Islands']\n",
      "['VI', '18.335765', '-64.896335', 'U.S. Virgin Islands']\n",
      "['VN', '14.058324', '108.277199', 'Vietnam']\n",
      "['VU', '-15.376706', '166.959158', 'Vanuatu']\n",
      "['WF', '-13.768752', '-177.156097', 'Wallis and Futuna']\n",
      "['WS', '-13.759029', '-172.104629', 'Samoa']\n",
      "['XK', '42.602636', '20.902977', 'Kosovo']\n",
      "['YE', '15.552727', '48.516388', 'Yemen']\n",
      "['YT', '-12.8275', '45.166244', 'Mayotte']\n",
      "['ZA', '-30.559482', '22.937506', 'South Africa']\n",
      "['ZM', '-13.133897', '27.849332', 'Zambia']\n",
      "['ZW', '-19.015438', '29.154857', 'Zimbabwe']\n"
     ]
    }
   ],
   "source": [
    "# loop over csv file and print each line\n",
    "import csv\n",
    " \n",
    "# opening the CSV file\n",
    "with open(file3, mode ='r')as file:\n",
    "   \n",
    "  # reading the CSV file\n",
    "  csvFile = csv.reader(file)\n",
    " \n",
    "# displaying the contents of the CSV file\n",
    "# this gives a lot of output, so has been commented out\n",
    "# uncomment to see all lines\n",
    "  for lines in csvFile:\n",
    "        print(lines)"
   ]
  },
  {
   "cell_type": "markdown",
   "id": "f07fe778-5c94-4a74-9400-7c316fb48c28",
   "metadata": {},
   "source": [
    "### Using Pandas\n",
    "A more elegant approach to reading files, and most commonly used in data science, is to open the file with the pandas library. However you may have to install pandas on your system first. This can be done with `pip install pandas` once we have pandas installed we can use this to read our file.\n",
    "\n",
    "* Pandas includes a powerful set of tools for working with data files\n",
    "* Once you have the datafile printing out, answer the questions in the next section\n",
    "* By convention we import pandas with the alias `pd`\n",
    "* Pandas creates a data frame with the data, by convention we use `df` for this\n",
    "* Pandas will give us a summary of the data\n",
    "* More documentation is available [here](https://pandas.pydata.org/pandas-docs/stable/reference/frame.html)"
   ]
  },
  {
   "cell_type": "code",
   "execution_count": 18,
   "id": "1d8805b7-e281-403a-bf14-e55abd485681",
   "metadata": {},
   "outputs": [
    {
     "name": "stdout",
     "output_type": "stream",
     "text": [
      "    Code  Longitude   Latitude               Country\n",
      "0     AD  42.546245   1.601554               Andorra\n",
      "1     AE  23.424076  53.847818  United Arab Emirates\n",
      "2     AF  33.939110  67.709953           Afghanistan\n",
      "3     AG  17.060816 -61.796428   Antigua and Barbuda\n",
      "4     AI  18.220554 -63.068615              Anguilla\n",
      "..   ...        ...        ...                   ...\n",
      "240   YE  15.552727  48.516388                 Yemen\n",
      "241   YT -12.827500  45.166244               Mayotte\n",
      "242   ZA -30.559482  22.937506          South Africa\n",
      "243   ZM -13.133897  27.849332                Zambia\n",
      "244   ZW -19.015438  29.154857              Zimbabwe\n",
      "\n",
      "[245 rows x 4 columns]\n"
     ]
    }
   ],
   "source": [
    "# first import and alias pandas\n",
    "import pandas as pd\n",
    "\n",
    "# set the path to the file here\n",
    "df = pd.read_csv (r'/home/yulia/Desktop/Code/world_countries.csv')\n",
    "print (df)"
   ]
  },
  {
   "cell_type": "code",
   "execution_count": 19,
   "id": "f35f1bd6-24f4-4e12-8c64-50c467081f1a",
   "metadata": {
    "tags": []
   },
   "outputs": [
    {
     "name": "stdout",
     "output_type": "stream",
     "text": [
      "        Longitude    Latitude\n",
      "count  244.000000  244.000000\n",
      "mean    16.253109   13.294814\n",
      "std     27.031206   73.976477\n",
      "min    -75.250973 -177.156097\n",
      "25%     -0.301710  -38.092008\n",
      "50%     16.869235   18.182149\n",
      "75%     38.965238   49.046734\n",
      "max     77.553604  179.414413\n"
     ]
    }
   ],
   "source": [
    "# We can also get pandas to describe and summarise the data using describe\n",
    "print (df.describe())"
   ]
  },
  {
   "cell_type": "markdown",
   "id": "bcb8ca4e-4851-4a13-99be-9c82614425b4",
   "metadata": {},
   "source": [
    "### Subset the data to remove a single column\n",
    "Notice pandas lets you refer to the columns by their name as defined in row 1, which makes the file easy to work with.\n",
    "\n",
    "* Let's say we wanted to print the values in the ```Code``` column, look at the example of doing that in the next cell"
   ]
  },
  {
   "cell_type": "code",
   "execution_count": 20,
   "id": "6863f776-c3b2-40e4-8805-1d04fcb97e17",
   "metadata": {
    "tags": []
   },
   "outputs": [
    {
     "name": "stdout",
     "output_type": "stream",
     "text": [
      "0      AD\n",
      "1      AE\n",
      "2      AF\n",
      "3      AG\n",
      "4      AI\n",
      "       ..\n",
      "240    YE\n",
      "241    YT\n",
      "242    ZA\n",
      "243    ZM\n",
      "244    ZW\n",
      "Name: Code, Length: 245, dtype: object\n"
     ]
    }
   ],
   "source": [
    "# Pass the column to a variable then add .sum to sum\n",
    "my_fun_column = df['Code']\n",
    "print(my_fun_column)"
   ]
  },
  {
   "cell_type": "code",
   "execution_count": 21,
   "id": "178ee750-8514-4771-a6f0-2de8f07f97c5",
   "metadata": {},
   "outputs": [
    {
     "name": "stdout",
     "output_type": "stream",
     "text": [
      "16.2531093647541\n"
     ]
    }
   ],
   "source": [
    "# Calculate the mean of values in a column\n",
    "my_fun_column = df['Longitude'].mean()\n",
    "print(my_fun_column)"
   ]
  },
  {
   "cell_type": "markdown",
   "id": "ab12788e-5641-406b-8e4a-4805653f9d82",
   "metadata": {
    "tags": []
   },
   "source": [
    "# Questions\n",
    "* Use pandas to answer the following questions, you'll need the file `realestatetransactions.csv`, check the file path exists first."
   ]
  },
  {
   "cell_type": "code",
   "execution_count": 22,
   "id": "dc468aee-8fca-468c-a9ac-c65e8d46162e",
   "metadata": {},
   "outputs": [
    {
     "data": {
      "text/plain": [
       "True"
      ]
     },
     "execution_count": 22,
     "metadata": {},
     "output_type": "execute_result"
    }
   ],
   "source": [
    "# Test you can see the file first by running this, change the path to suit your machine\n",
    "import os.path\n",
    "from os import path\n",
    "path.exists(\"/home/yulia/Desktop/Code/realestatetransactions.csv\")"
   ]
  },
  {
   "cell_type": "code",
   "execution_count": 23,
   "id": "114877d4-e972-408b-940d-b15ba703463d",
   "metadata": {
    "tags": []
   },
   "outputs": [
    {
     "name": "stdout",
     "output_type": "stream",
     "text": [
      "                  street             city    zip state  beds  baths  sq__ft  \\\n",
      "0           3526 HIGH ST       SACRAMENTO  95838    CA     2      1     836   \n",
      "1            51 OMAHA CT       SACRAMENTO  95823    CA     3      1    1167   \n",
      "2         2796 BRANCH ST       SACRAMENTO  95815    CA     2      1     796   \n",
      "3       2805 JANETTE WAY       SACRAMENTO  95815    CA     2      1     852   \n",
      "4        6001 MCMAHON DR       SACRAMENTO  95824    CA     2      1     797   \n",
      "..                   ...              ...    ...   ...   ...    ...     ...   \n",
      "980   9169 GARLINGTON CT       SACRAMENTO  95829    CA     4      3    2280   \n",
      "981      6932 RUSKUT WAY       SACRAMENTO  95823    CA     3      2    1477   \n",
      "982    7933 DAFFODIL WAY   CITRUS HEIGHTS  95610    CA     3      2    1216   \n",
      "983     8304 RED FOX WAY        ELK GROVE  95758    CA     4      2    1685   \n",
      "984  3882 YELLOWSTONE LN  EL DORADO HILLS  95762    CA     3      2    1362   \n",
      "\n",
      "            type                     sale_date   price   latitude   longitude  \n",
      "0    Residential  Wed May 21 00:00:00 EDT 2008   59222  38.631913 -121.434879  \n",
      "1    Residential  Wed May 21 00:00:00 EDT 2008   68212  38.478902 -121.431028  \n",
      "2    Residential  Wed May 21 00:00:00 EDT 2008   68880  38.618305 -121.443839  \n",
      "3    Residential  Wed May 21 00:00:00 EDT 2008   69307  38.616835 -121.439146  \n",
      "4    Residential  Wed May 21 00:00:00 EDT 2008   81900  38.519470 -121.435768  \n",
      "..           ...                           ...     ...        ...         ...  \n",
      "980  Residential  Thu May 15 00:00:00 EDT 2008  232425  38.457679 -121.359620  \n",
      "981  Residential  Thu May 15 00:00:00 EDT 2008  234000  38.499893 -121.458890  \n",
      "982  Residential  Thu May 15 00:00:00 EDT 2008  235000  38.708824 -121.256803  \n",
      "983  Residential  Thu May 15 00:00:00 EDT 2008  235301  38.417000 -121.397424  \n",
      "984  Residential  Thu May 15 00:00:00 EDT 2008  235738  38.655245 -121.075915  \n",
      "\n",
      "[985 rows x 12 columns]\n",
      "234144.26395939087\n",
      "0    95648\n",
      "Name: zip, dtype: int64\n"
     ]
    }
   ],
   "source": [
    "import pandas as pd\n",
    "\n",
    "# set the path to the file here\n",
    "df = pd.read_csv(r'realestatetransactions.csv')\n",
    "print (df)\n",
    "\n",
    "my_fun_column = df['price'].mean()\n",
    "my_fun_column2 = df['zip'].mode()\n",
    "print(my_fun_column)\n",
    "print(my_fun_column2)"
   ]
  },
  {
   "cell_type": "markdown",
   "id": "a5dd5b52-daa0-4740-9201-b93255c0d6d9",
   "metadata": {},
   "source": [
    "### Calculate the mean price of all real estate properties in the file?"
   ]
  },
  {
   "cell_type": "code",
   "execution_count": 24,
   "id": "8e9a2754-df06-4f1f-b73e-31642277b18b",
   "metadata": {},
   "outputs": [
    {
     "data": {
      "text/plain": [
       "234144.26"
      ]
     },
     "metadata": {},
     "output_type": "display_data"
    }
   ],
   "source": [
    "# Your code here\n",
    "mean_price = round(df['price'].mean(),2)\n",
    "display(mean_price)"
   ]
  },
  {
   "cell_type": "markdown",
   "id": "595dd8cf-ffbe-4892-a9c2-042c60da8f92",
   "metadata": {},
   "source": [
    "### Calculate the most popular zip code?"
   ]
  },
  {
   "cell_type": "code",
   "execution_count": 25,
   "id": "81a8da49-feec-4238-88b9-af983c20afca",
   "metadata": {},
   "outputs": [
    {
     "data": {
      "text/plain": [
       "0    95648\n",
       "Name: zip, dtype: int64"
      ]
     },
     "metadata": {},
     "output_type": "display_data"
    }
   ],
   "source": [
    "# Your code here\n",
    "mode_zip_code =  df['zip'].mode()\n",
    "display(mode_zip_code)"
   ]
  },
  {
   "cell_type": "markdown",
   "id": "096bc529-ee75-4d1a-aaa3-9889ea25267e",
   "metadata": {},
   "source": [
    "### Calculate the mean price of each type of property i.e. condo, residential etc?"
   ]
  },
  {
   "cell_type": "code",
   "execution_count": 26,
   "id": "567f7e41-0ec8-4f09-a043-01a455e635e2",
   "metadata": {},
   "outputs": [
    {
     "data": {
      "text/plain": [
       "type\n",
       "Condo           150082.185185\n",
       "Multi-Family    224534.692308\n",
       "Residential     239186.162486\n",
       "Unkown          275000.000000\n",
       "Name: price, dtype: float64"
      ]
     },
     "metadata": {},
     "output_type": "display_data"
    }
   ],
   "source": [
    "# Your code here\n",
    "mean_price_by_property_type = df.groupby('type')['price'].mean()\n",
    "display(mean_price_by_property_type)\n"
   ]
  },
  {
   "cell_type": "markdown",
   "id": "b93e9fa8-558e-4ee3-b7d0-20c3e0533166",
   "metadata": {},
   "source": [
    "### How many square feet worth of real estate are listed in the file in total?"
   ]
  },
  {
   "cell_type": "code",
   "execution_count": 27,
   "id": "14ee1c45-846e-4340-928b-4fe5e79b0f1c",
   "metadata": {},
   "outputs": [
    {
     "data": {
      "text/plain": [
       "1295193"
      ]
     },
     "metadata": {},
     "output_type": "display_data"
    }
   ],
   "source": [
    "# Your code here\n",
    "total_square_feet_in_file = df['sq__ft'].sum()\n",
    "display(total_square_feet_in_file)"
   ]
  },
  {
   "cell_type": "markdown",
   "id": "e1dbb8ad-54c8-4bf3-80b4-993d8eade007",
   "metadata": {},
   "source": [
    "### There are 2 cities that have only 2 properties for sale, write the code to show these?"
   ]
  },
  {
   "cell_type": "code",
   "execution_count": 28,
   "id": "f88b79c7-311d-4b2c-9fb9-f9d55db85f3e",
   "metadata": {},
   "outputs": [
    {
     "data": {
      "text/plain": [
       "city\n",
       "MEADOW VISTA         1\n",
       "GARDEN VALLEY        1\n",
       "WALNUT GROVE         1\n",
       "COOL                 1\n",
       "SHINGLE SPRINGS      1\n",
       "DIAMOND SPRINGS      1\n",
       "FORESTHILL           1\n",
       "GREENWOOD            1\n",
       "MATHER               1\n",
       "PENRYN               1\n",
       "SLOUGHHOUSE          1\n",
       "EL DORADO            2\n",
       "LOOMIS               2\n",
       "GRANITE BAY          3\n",
       "POLLOCK PINES        3\n",
       "RANCHO MURIETA       3\n",
       "WEST SACRAMENTO      3\n",
       "GOLD RIVER           4\n",
       "ELVERTA              4\n",
       "AUBURN               5\n",
       "WILTON               5\n",
       "FAIR OAKS            9\n",
       "CAMERON PARK         9\n",
       "PLACERVILLE         10\n",
       "ORANGEVALE          11\n",
       "RIO LINDA           13\n",
       "ROCKLIN             17\n",
       "FOLSOM              17\n",
       "CARMICHAEL          20\n",
       "NORTH HIGHLANDS     21\n",
       "GALT                21\n",
       "EL DORADO HILLS     23\n",
       "RANCHO CORDOVA      28\n",
       "ANTELOPE            33\n",
       "CITRUS HEIGHTS      35\n",
       "ROSEVILLE           48\n",
       "LINCOLN             72\n",
       "ELK GROVE          114\n",
       "SACRAMENTO         439\n",
       "Name: count, dtype: int64"
      ]
     },
     "metadata": {},
     "output_type": "display_data"
    }
   ],
   "source": [
    "# Your code here\n",
    "number_of_properties_for_sale = df['city'].value_counts(ascending=True)\n",
    "display(number_of_properties_for_sale)"
   ]
  },
  {
   "cell_type": "markdown",
   "id": "a1ebb2b9-87e3-47ab-84b5-63be15e019b8",
   "metadata": {},
   "source": [
    "### How many bedrooms does the average property have?"
   ]
  },
  {
   "cell_type": "code",
   "execution_count": 30,
   "id": "ae2b8edd-3d57-4206-a95b-a8144c1ffeb2",
   "metadata": {},
   "outputs": [
    {
     "data": {
      "text/plain": [
       "2.9116751269035532"
      ]
     },
     "metadata": {},
     "output_type": "display_data"
    }
   ],
   "source": [
    "# Your code here\n",
    "average_number_of_bedrooms = df['beds'].mean()\n",
    "display(average_number_of_bedrooms)"
   ]
  }
 ],
 "metadata": {
  "kernelspec": {
   "display_name": "Python 3 (ipykernel)",
   "language": "python",
   "name": "python3"
  },
  "language_info": {
   "codemirror_mode": {
    "name": "ipython",
    "version": 3
   },
   "file_extension": ".py",
   "mimetype": "text/x-python",
   "name": "python",
   "nbconvert_exporter": "python",
   "pygments_lexer": "ipython3",
   "version": "3.8.18"
  },
  "toc-autonumbering": true,
  "toc-showcode": false,
  "toc-showmarkdowntxt": false,
  "toc-showtags": false
 },
 "nbformat": 4,
 "nbformat_minor": 5
}
